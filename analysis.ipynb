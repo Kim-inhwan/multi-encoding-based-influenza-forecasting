{
 "metadata": {
  "language_info": {
   "codemirror_mode": {
    "name": "ipython",
    "version": 3
   },
   "file_extension": ".py",
   "mimetype": "text/x-python",
   "name": "python",
   "nbconvert_exporter": "python",
   "pygments_lexer": "ipython3",
   "version": "3.6.9"
  },
  "orig_nbformat": 4,
  "kernelspec": {
   "name": "python3",
   "display_name": "Python 3.6.9 64-bit"
  },
  "interpreter": {
   "hash": "31f2aee4e71d21fbe5cf8b01ff0e069b9275f58929596ceb00d14d90e3e16cd6"
  }
 },
 "nbformat": 4,
 "nbformat_minor": 2,
 "cells": [
  {
   "cell_type": "code",
   "execution_count": 1,
   "metadata": {},
   "outputs": [],
   "source": [
    "from xml.etree import ElementTree as ET\n",
    "\n",
    "wiki_path = './data/kowiki-20210601-pages-articles.xml'"
   ]
  },
  {
   "cell_type": "code",
   "execution_count": 4,
   "metadata": {
    "tags": []
   },
   "outputs": [
    {
     "output_type": "error",
     "ename": "AttributeError",
     "evalue": "'str' object has no attribute '_setevents'",
     "traceback": [
      "\u001b[0;31m---------------------------------------------------------------------------\u001b[0m",
      "\u001b[0;31mAttributeError\u001b[0m                            Traceback (most recent call last)",
      "\u001b[0;32m<ipython-input-4-167e800101aa>\u001b[0m in \u001b[0;36m<module>\u001b[0;34m\u001b[0m\n\u001b[1;32m      2\u001b[0m \u001b[0;34m\u001b[0m\u001b[0m\n\u001b[1;32m      3\u001b[0m \u001b[0mns\u001b[0m \u001b[0;34m=\u001b[0m \u001b[0;34m'{http://www.mediawiki.org/xml/export-0.10/}'\u001b[0m\u001b[0;34m\u001b[0m\u001b[0;34m\u001b[0m\u001b[0m\n\u001b[0;32m----> 4\u001b[0;31m \u001b[0;32mfor\u001b[0m \u001b[0m_\u001b[0m\u001b[0;34m,\u001b[0m \u001b[0melem\u001b[0m \u001b[0;32min\u001b[0m \u001b[0mitertools\u001b[0m\u001b[0;34m.\u001b[0m\u001b[0mislice\u001b[0m\u001b[0;34m(\u001b[0m\u001b[0mET\u001b[0m\u001b[0;34m.\u001b[0m\u001b[0miterparse\u001b[0m\u001b[0;34m(\u001b[0m\u001b[0mwiki_path\u001b[0m\u001b[0;34m,\u001b[0m \u001b[0mparser\u001b[0m\u001b[0;34m=\u001b[0m\u001b[0mns\u001b[0m\u001b[0;34m+\u001b[0m\u001b[0;34m'text'\u001b[0m\u001b[0;34m)\u001b[0m\u001b[0;34m,\u001b[0m \u001b[0;36m100\u001b[0m\u001b[0;34m)\u001b[0m\u001b[0;34m:\u001b[0m\u001b[0;34m\u001b[0m\u001b[0;34m\u001b[0m\u001b[0m\n\u001b[0m\u001b[1;32m      5\u001b[0m     \u001b[0mprint\u001b[0m\u001b[0;34m(\u001b[0m\u001b[0melem\u001b[0m\u001b[0;34m.\u001b[0m\u001b[0mtag\u001b[0m\u001b[0;34m)\u001b[0m\u001b[0;34m\u001b[0m\u001b[0;34m\u001b[0m\u001b[0m\n",
      "\u001b[0;32m/usr/lib/python3.6/xml/etree/ElementTree.py\u001b[0m in \u001b[0;36miterparse\u001b[0;34m(source, events, parser)\u001b[0m\n\u001b[1;32m   1215\u001b[0m     \u001b[0;31m# Use the internal, undocumented _parser argument for now; When the\u001b[0m\u001b[0;34m\u001b[0m\u001b[0;34m\u001b[0m\u001b[0;34m\u001b[0m\u001b[0m\n\u001b[1;32m   1216\u001b[0m     \u001b[0;31m# parser argument of iterparse is removed, this can be killed.\u001b[0m\u001b[0;34m\u001b[0m\u001b[0;34m\u001b[0m\u001b[0;34m\u001b[0m\u001b[0m\n\u001b[0;32m-> 1217\u001b[0;31m     \u001b[0mpullparser\u001b[0m \u001b[0;34m=\u001b[0m \u001b[0mXMLPullParser\u001b[0m\u001b[0;34m(\u001b[0m\u001b[0mevents\u001b[0m\u001b[0;34m=\u001b[0m\u001b[0mevents\u001b[0m\u001b[0;34m,\u001b[0m \u001b[0m_parser\u001b[0m\u001b[0;34m=\u001b[0m\u001b[0mparser\u001b[0m\u001b[0;34m)\u001b[0m\u001b[0;34m\u001b[0m\u001b[0;34m\u001b[0m\u001b[0m\n\u001b[0m\u001b[1;32m   1218\u001b[0m     \u001b[0;32mdef\u001b[0m \u001b[0miterator\u001b[0m\u001b[0;34m(\u001b[0m\u001b[0;34m)\u001b[0m\u001b[0;34m:\u001b[0m\u001b[0;34m\u001b[0m\u001b[0;34m\u001b[0m\u001b[0m\n\u001b[1;32m   1219\u001b[0m         \u001b[0;32mtry\u001b[0m\u001b[0;34m:\u001b[0m\u001b[0;34m\u001b[0m\u001b[0;34m\u001b[0m\u001b[0m\n",
      "\u001b[0;32m/usr/lib/python3.6/xml/etree/ElementTree.py\u001b[0m in \u001b[0;36m__init__\u001b[0;34m(self, events, _parser)\u001b[0m\n\u001b[1;32m   1258\u001b[0m         \u001b[0;32mif\u001b[0m \u001b[0mevents\u001b[0m \u001b[0;32mis\u001b[0m \u001b[0;32mNone\u001b[0m\u001b[0;34m:\u001b[0m\u001b[0;34m\u001b[0m\u001b[0;34m\u001b[0m\u001b[0m\n\u001b[1;32m   1259\u001b[0m             \u001b[0mevents\u001b[0m \u001b[0;34m=\u001b[0m \u001b[0;34m(\u001b[0m\u001b[0;34m\"end\"\u001b[0m\u001b[0;34m,\u001b[0m\u001b[0;34m)\u001b[0m\u001b[0;34m\u001b[0m\u001b[0;34m\u001b[0m\u001b[0m\n\u001b[0;32m-> 1260\u001b[0;31m         \u001b[0mself\u001b[0m\u001b[0;34m.\u001b[0m\u001b[0m_parser\u001b[0m\u001b[0;34m.\u001b[0m\u001b[0m_setevents\u001b[0m\u001b[0;34m(\u001b[0m\u001b[0mself\u001b[0m\u001b[0;34m.\u001b[0m\u001b[0m_events_queue\u001b[0m\u001b[0;34m,\u001b[0m \u001b[0mevents\u001b[0m\u001b[0;34m)\u001b[0m\u001b[0;34m\u001b[0m\u001b[0;34m\u001b[0m\u001b[0m\n\u001b[0m\u001b[1;32m   1261\u001b[0m \u001b[0;34m\u001b[0m\u001b[0m\n\u001b[1;32m   1262\u001b[0m     \u001b[0;32mdef\u001b[0m \u001b[0mfeed\u001b[0m\u001b[0;34m(\u001b[0m\u001b[0mself\u001b[0m\u001b[0;34m,\u001b[0m \u001b[0mdata\u001b[0m\u001b[0;34m)\u001b[0m\u001b[0;34m:\u001b[0m\u001b[0;34m\u001b[0m\u001b[0;34m\u001b[0m\u001b[0m\n",
      "\u001b[0;31mAttributeError\u001b[0m: 'str' object has no attribute '_setevents'"
     ]
    }
   ],
   "source": [
    "import itertools\n",
    "\n",
    "ns = '{http://www.mediawiki.org/xml/export-0.10/}'\n",
    "for _, elem in itertools.islice(ET.iterparse(wiki_path, parser=ns+'text'), 100):\n",
    "    print(elem.tag)"
   ]
  },
  {
   "cell_type": "code",
   "execution_count": 8,
   "metadata": {},
   "outputs": [
    {
     "output_type": "execute_result",
     "data": {
      "text/plain": [
       "{}"
      ]
     },
     "metadata": {},
     "execution_count": 8
    }
   ],
   "source": [
    "elem.attrib"
   ]
  },
  {
   "cell_type": "code",
   "execution_count": 5,
   "metadata": {},
   "outputs": [
    {
     "output_type": "execute_result",
     "data": {
      "text/plain": [
       "['|-\\n',\n",
       " '| &lt;div style=&quot;text-align: center;&quot;&gt;[[수리물리학]]&lt;/div&gt;\\n',\n",
       " '| &lt;div style=&quot;text-align: center;&quot;&gt;[[유체역학]]&lt;/div&gt;\\n',\n",
       " '| &lt;div style=&quot;text-align: center;&quot;&gt;[[수치해석학]]&lt;/div&gt;\\n',\n",
       " ' | &lt;div style=&quot;text-align: center;&quot;&gt;[[수학적 최적화|최적화 이론]]&lt;/div&gt;\\n',\n",
       " '|-\\n',\n",
       " '|[[파일:Two red dice 01.svg|96px]]\\n',\n",
       " '|[[파일:Oldfaithful3.png|96px]]\\n',\n",
       " '|[[파일:Market Data Index NYA on 20050726 202628 UTC.png|96px]]\\n',\n",
       " '|[[파일:Arbitrary-gametree-solved.png|96px]]\\n',\n",
       " '|-\\n',\n",
       " '| &lt;div style=&quot;text-align: center;&quot;&gt;[[확률론]]&lt;/div&gt;\\n',\n",
       " '| &lt;div style=&quot;text-align: center;&quot;&gt;[[통계학]]&lt;/div&gt;\\n',\n",
       " '| &lt;div style=&quot;text-align: center;&quot;&gt;[[수리금융학|금융수학]]&lt;/div&gt;\\n',\n",
       " '| &lt;div style=&quot;text-align: center;&quot;&gt;[[게임 이론]]&lt;/div&gt;\\n',\n",
       " '|}\\n',\n",
       " '\\n',\n",
       " '== 영향 ==\\n',\n",
       " '오늘날 수학은 [[자연과학]], [[공학]]뿐만 아니라, [[경제학]] 등의 [[사회과학]]에서도 중요한 도구로 사용된다. 예를들어, 정도의 차이는 있으나, [[미적분학]]과 [[선형대수학]]은 [[자연과학]]과 [[공학]], [[경제학]]을 하는데에 필수적 과목으로 여겨지며, [[확률론]]은 [[계량경제학]]에 응용된다. [[통계학]]은 [[사회과학]] 이론에 근거를 마련하는데 필수적이다. 16세기에 [[갈릴레오 갈릴레이]]가 &quot;자연이라는 책은 수학이라는 언어로 기록되어 있다.&quot;는 주장과 함께 물리학에 수학적 방법을 도입하였고, 17세기에 [[아이작 뉴턴]]이 [[고전 역학]]의 기본 물리학 법칙들을 수학적으로 기술하고 정립하여 물리학 이론에서 수학적 모델링은 필수적 요소가 되었다. 또한 이 시기는 [[과학적 방법]]이 정립되는 시기이기도 한데, 많은 과학적 현상들이 수학적 관계가 있음이 드러나면서 [[과학적 방법]]에도 수학은 중요한 역할을 하고 있다. [[노벨 물리학상]] 수상자 [[유진 위그너]]는 그의 에세이 &quot;The unreasonable effectiveness of mathematics in natural sciences&quot;에서 인간 세상과 동떨어져있고 현실과 아무 관련이 없다고 여겨지던 수학 중 극히 일부는 뜻밖에도 자연과학과 연관성이 드러나고 과학이론에 효과적인 토대를 마련해 주는데에 대한 놀라움을 표현하였다.&lt;ref&gt;Wigner, E. P. (1960). &quot;The unreasonable effectiveness of mathematics in the natural sciences&quot;. Richard Courant lecture in mathematical sciences delivered at New York University, May 11, 1959. Communications on Pure and Applied Mathematics. 13: 1–14. Bibcode:1960CPAM...13....1W. doi:10.1002/cpa.3160130102&lt;/ref&gt; 예를 들어, [[비유클리드 기하학]]과 3차원 이상의 임의의 차원에서 기하학을 탐구했던 [[미분 기하학]]은 당시에는 현실과 연관성을 가지지 않았으나 먼 훗날 [[일반상대성이론]]이 4차원 기하학을 필요로 함에 따라, 물리적 세상과 연관이 있음이 밝혀졌다. 또한 [[게이지이론]], [[양자장론]] 등에도 [[미분 기하학]]은 필수적이다.\\n',\n",
       " '\\n',\n",
       " '또한 수학은 [[음악]]이나 [[미술]] 등 예술과도 관련이 있다. [[피타고라스]]는 두 정수의 비율이 듣기 좋은 소리가 난다는 점을 가지고 [[피타고라스 음계]]를 만들었다. 중세시대에도 음악과 수학을 밀접하게 연관시켰으며 성 빅토르의 후고는 “음악은 조화다”라고 했고, 성 트론드의 루돌프는 “음악은 조화의 토대(ratio)다”라고 쓴 바 있다. 조화가 반드시 소리로 표현될 필요는 없고 소리의 음악은 음악의 형식 중 하나에 불과했다. 소리에 대해 다루었던 중세의 저술가들이 있는가 하면, 조화와 비례의 추상적 이론만을 다루고 소리에는 거의 관심을 보이지 않았던 저술가들도 있었다. 청각적인 면과 추상적인 면이라는 음악의 이런 이중적 측면은 고대의 음악이론보다는 중세의 음악이론에서 큰 특징이 되었다.&lt;ref&gt;타타르키비츠 미학사:중세미학, W.타타르키비츠 씀, 손효주 옮김, 미술문화 펴냄&lt;/ref&gt; 또한 [[현대 음악]]을 군(群,group)같은 수학적 대상을 이용해 분석하기도 한다. [[원근법]]은 [[사영 기하학]]에 해당한다. 미술 사조 중 하나인 [[입체파]]도 기하학의 영향을 받았다.\\n',\n",
       " '\\n',\n",
       " '== 같이 보기 ==\\n',\n",
       " '* [[정수론]]\\n',\n",
       " '* [[기하학]]\\n',\n",
       " '* [[대수학]]\\n',\n",
       " '* [[해석학 (수학)|해석학]]\\n',\n",
       " '* [[산학]]\\n',\n",
       " '* [[대한민국의 고등학교 수학 교과목]]\\n',\n",
       " '* [[이산수학]]\\n',\n",
       " '* [[응용수학]]\\n',\n",
       " '* [[수학자]]\\n',\n",
       " '\\n',\n",
       " '== 참고 문헌 ==\\n',\n",
       " '{{각주}}\\n',\n",
       " '{{참고 자료 시작}}\\n',\n",
       " \"* Eves, Howard, ''An Introduction to the History of Mathematics'', Sixth Edition, Saunders, 1990, {{ISBN|0-03-029558-0}}.\\n\",\n",
       " \"* Jourdain, Philip E. B., ''The Nature of Mathematics'', in ''The World of Mathematics'', James R. Newman, editor, Dover, 2003, {{ISBN|0-486-43268-8}}.\\n\",\n",
       " \"* Peterson, Ivars, ''Mathematical Tourist, New and Updated Snapshots of Modern Mathematics'', Owl Books, 2001, {{ISBN|0-8050-7159-8}}.&lt;/div&gt;\\n\",\n",
       " '{{참고 자료 끝}}\\n',\n",
       " '\\n',\n",
       " '== 외부 링크 ==\\n',\n",
       " '{{위키공용분류}}\\n',\n",
       " '{{포털|수학}}\\n',\n",
       " '* {{언어링크|ko}} [http://www.kms.or.kr 대한수학회(KMS)]\\n',\n",
       " '* {{언어링크|ko}} [https://web.archive.org/web/20150213234737/http://www.msquare.or.kr/ KAIST 수학문제연구회]\\n',\n",
       " '* {{언어링크|en}} [http://mathworld.wolfram.com(英) Mathworld]{{깨진 링크|url=http://mathworld.wolfram.xn--com()-wt7n/ }}\\n',\n",
       " '* {{언어링크|en}} [http://www-history.mcs.st-and.ac.uk/ The MacTutor History of Mathematics archive]\\n',\n",
       " '* {{언어링크|ko}} [https://web.archive.org/web/20130328230146/http://mathnet.or.kr/new_sub05/sub05_04.php 수리과학연구정보센터 용어 검색]\\n',\n",
       " '\\n',\n",
       " '{{수학 분야}}\\n',\n",
       " '{{전거 통제}}\\n',\n",
       " '\\n',\n",
       " '[[분류:수학| ]]\\n',\n",
       " '[[분류:형식과학]]\\n',\n",
       " '[[분류:수학 용어]]</text>\\n',\n",
       " '      <sha1>to0bdxj1hf2oy9laa5fsx4dpwnki95v</sha1>\\n',\n",
       " '    </revision>\\n',\n",
       " '  </page>\\n',\n",
       " '  <page>\\n',\n",
       " '    <title>수학 상수</title>\\n',\n",
       " '    <ns>0</ns>\\n',\n",
       " '    <id>10</id>\\n',\n",
       " '    <revision>\\n',\n",
       " '      <id>27904338</id>\\n',\n",
       " '      <parentid>27904298</parentid>\\n',\n",
       " '      <timestamp>2020-10-25T13:33:04Z</timestamp>\\n',\n",
       " '      <contributor>\\n',\n",
       " '        <username>데니스3</username>\\n',\n",
       " '        <id>513946</id>\\n',\n",
       " '      </contributor>\\n',\n",
       " '      <comment>/* 수학 상수표 */</comment>\\n',\n",
       " '      <model>wikitext</model>\\n',\n",
       " '      <format>text/x-wiki</format>\\n',\n",
       " '      <text bytes=\"7970\" xml:space=\"preserve\">\\'\\'\\'[[수학]]\\'\\'\\'에서 \\'\\'\\'상수\\'\\'\\'란 그 값이 변하지 않는 불변량으로, [[변수 (수학)|변수]]의 반대말이다. [[물리 상수]]와는 달리, 수학 상수는 물리적 측정과는 상관없이 정의된다.\\n',\n",
       " '\\n',\n",
       " '수학 상수는 대개 [[실수체]]나 [[복소수체]]의 원소이다. 우리가 이야기할 수 있는 상수는 (거의 대부분 [[계산 가능한 수|계산 가능]]한) [[정의가능한 수]]이다.\\n',\n",
       " '\\n',\n",
       " '특정 수학 상수, 예를 들면 [[골롬-딕맨 상수]], [[프랑세즈-로빈슨 상수]], [[제곱근 2|&lt;math&gt;\\\\sqrt{2}&lt;/math&gt;]], [[레비 상수]]와 같은 상수는 다른 수학상수 또는 함수와 약한 상관관계 또는 강한 상관관계를 갖는다.\\n',\n",
       " '\\n',\n",
       " '== 수학 상수표 ==\\n',\n",
       " '{| class=&quot;wikitable&quot;\\n',\n",
       " '|- style=&quot;background: #a0e0a0;&quot;\\n',\n",
       " '! 기호\\n',\n",
       " '! style=&quot;width: 24em;&quot; | 값\\n',\n",
       " '! 이름\\n',\n",
       " '! style=&quot;width: 3.5em;&quot; | 분류\\n',\n",
       " '! N\\n',\n",
       " '! 알려진 때\\n',\n",
       " '! 알려진 소수점 자릿수\\n',\n",
       " '\\n',\n",
       " '|-\\n',\n",
       " \"| style=&quot;background: #d0f0d0; text-align: center;&quot; | '''[[1|&lt;math&gt;1&lt;/math&gt;]]'''\\n\",\n",
       " '| 1\\n',\n",
       " '| 일 , 하나\\n',\n",
       " \"| '''[[수학|일반]]'''\\n\",\n",
       " \"| ''[[정수]].''\\n\",\n",
       " '| 고대\\n',\n",
       " '| ∞\\n',\n",
       " '\\n',\n",
       " '|-\\n',\n",
       " \"| style=&quot;background: #d0f0d0; text-align: center;&quot; | '''[[0|&lt;math&gt;0&lt;/math&gt;]]'''\\n\",\n",
       " '| 0\\n',\n",
       " '| 영\\n',\n",
       " \"| '''[[수학|일반]]'''\\n\",\n",
       " \"| ''[[대수적 수]]''\\n\",\n",
       " '| 고대 BC 500년경\\n',\n",
       " '| ∞\\n',\n",
       " '\\n',\n",
       " '|-\\n',\n",
       " \"| style=&quot;background: #d0f0d0; text-align: center;&quot; | '''[[허수 단위|&lt;math&gt;i&lt;/math&gt;]]'''\\n\",\n",
       " '| &lt;math&gt;\\\\sqrt{-1}&lt;/math&gt;\\n',\n",
       " '| [[허수단위 | 허수 ]]단위 , 아이(&lt;math&gt;i&lt;/math&gt;)\\n',\n",
       " \"| '''[[수학|일반]]'''\\n\",\n",
       " \"| ''[[복소수]]''\\n\",\n",
       " '|  1500년경\\n',\n",
       " '| ∞\\n',\n",
       " '\\n',\n",
       " '|-\\n',\n",
       " \"| style=&quot;background: #d0f0d0; text-align: center;&quot; | '''[[원주율|&lt;math&gt;\\\\pi&lt;/math&gt;]]'''\\n\",\n",
       " '| ≈ 3.14159 26535 89793 23846 26433 83279 50288\\n',\n",
       " \"|  '''원주율'''\\n\",\n",
       " \"| '''[[수학|일반]]'''\\n\",\n",
       " \"| ''[[초월수]]''\\n\",\n",
       " '| 고대\\n',\n",
       " '| 1,241,177,300,000\\n',\n",
       " '\\n',\n",
       " '|-\\n',\n",
       " \"| style=&quot;background: #d0f0d0; text-align: center;&quot; | '''[[E (수학상수)|&lt;math&gt;e&lt;/math&gt;]]'''\\n\",\n",
       " '| ≈ 2.71828 18284 59045 23536 02874 71352 66249\\n',\n",
       " '| [[존 네이피어|네이피어]] 수, [[자연로그]]의 밑\\n',\n",
       " \"| '''[[수학|일반]]'''\\n\",\n",
       " \"| ''[[초월수]]''\\n\",\n",
       " '| [[1618년]]\\n',\n",
       " '| 12,884,901,000\\n',\n",
       " '\\n',\n",
       " '|-\\n',\n",
       " '| style=&quot;background: #d0f0d0; text-align: center;&quot; | &lt;math&gt;\\\\sqrt{2}&lt;/math&gt;\\n',\n",
       " '| ≈ 1.41421 35623 73095 04880 16887 24209 69807\\n',\n",
       " '| [[2의 제곱근]],[[닮음비]]\\n',\n",
       " \"| '''[[수학|일반]]'''\\n\",\n",
       " \"| ''[[대수적 수]], [[무리수]]''\\n\",\n",
       " '| 고대\\n',\n",
       " '| 137,438,953,444\\n',\n",
       " '\\n',\n",
       " '|-\\n',\n",
       " '| style=&quot;background: #d0f0d0; text-align: center;&quot; | &lt;math&gt;\\\\gamma&lt;/math&gt;\\n',\n",
       " '| ≈ 0.57721 56649 01532 86060 65120 90082 40243\\n',\n",
       " '| [[오일러-마스케로니 상수]]\\n',\n",
       " \"| '''[[수학|일반]]''', '''[[수론]]'''\\n\",\n",
       " '| ?\\n',\n",
       " '| [[1735년]]\\n',\n",
       " '| 108,000,000\\n',\n",
       " '\\n',\n",
       " '|-\\n',\n",
       " '| style=&quot;background: #d0f0d0; text-align: center;&quot; | &lt;math&gt;\\\\phi&lt;/math&gt;\\n',\n",
       " '| ≈ 1.61803 39887 49894 84820 45868 34365 63811\\n',\n",
       " '| [[황금비]]\\n',\n",
       " \"| '''[[수학|일반]]''',[[피보나치 수열]]\\n\",\n",
       " \"| ''[[대수적 수]], [[무리수]]''\\n\",\n",
       " '| 고대\\n',\n",
       " '| 3,141,000,000\\n',\n",
       " '\\n',\n",
       " '|-\\n',\n",
       " '| style=&quot;background: #d0f0d0; text-align: center;&quot; | &lt;math&gt;\\\\beta^*&lt;/math&gt;\\n',\n",
       " '| ≈ 0.70258\\n',\n",
       " '| [[엠브리-트레페텐 상수]]\\n',\n",
       " \"| '''[[수론]]'''\\n\",\n",
       " '| ?\\n',\n",
       " '| ?\\n',\n",
       " '| ?\\n',\n",
       " '\\n',\n",
       " '|-\\n',\n",
       " '| style=&quot;background: #d0f0d0; text-align: center;&quot; | &lt;math&gt;\\\\delta&lt;/math&gt;\\n',\n",
       " '| ≈ 4.66920 16091 02990 67185 32038 20466 20161\\n',\n",
       " '| [[파이겐바움 상수]]\\n',\n",
       " \"| '''[[혼돈 이론]]'''\\n\",\n",
       " '| ?\\n',\n",
       " '| [[1975년]]\\n',\n",
       " '| ?\\n',\n",
       " '\\n',\n",
       " '|-\\n',\n",
       " '| style=&quot;background: #d0f0d0; text-align: center;&quot; | &lt;math&gt;\\\\alpha&lt;/math&gt;\\n',\n",
       " '| ≈ 2.50290 78750 95892 82228 39028 73218 21578\\n',\n",
       " '| [[파이겐바움 상수]]\\n',\n",
       " \"| '''[[혼돈 이론]]'''\\n\",\n",
       " '| ?\\n',\n",
       " '| ?\\n',\n",
       " '| ?\\n',\n",
       " '\\n',\n",
       " '|-\\n',\n",
       " '| style=&quot;background: #d0f0d0; text-align: center;&quot; | &lt;math&gt;C_2&lt;/math&gt;\\n',\n",
       " '| ≈ 0.66016 18158 46869 57392 78121 10014 55577\\n',\n",
       " '| [[쌍둥이 소수 상수]]\\n',\n",
       " \"| '''[[수론]]'''\\n\",\n",
       " '| ?\\n',\n",
       " '| ?\\n',\n",
       " '| 5,020\\n',\n",
       " '\\n',\n",
       " '|-\\n']"
      ]
     },
     "metadata": {},
     "execution_count": 5
    }
   ],
   "source": [
    "wiki_data[500:700]\n"
   ]
  },
  {
   "cell_type": "code",
   "execution_count": 11,
   "metadata": {},
   "outputs": [
    {
     "output_type": "stream",
     "name": "stdout",
     "text": [
      "  <siteinfo>\n\n"
     ]
    }
   ],
   "source": [
    "print(wiki_file.readline())\n"
   ]
  },
  {
   "cell_type": "code",
   "execution_count": null,
   "metadata": {},
   "outputs": [],
   "source": []
  }
 ]
}