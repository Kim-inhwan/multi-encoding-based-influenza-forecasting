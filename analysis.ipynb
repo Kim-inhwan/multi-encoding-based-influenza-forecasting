{
 "metadata": {
  "orig_nbformat": 4,
  "kernelspec": {
   "name": "python3",
   "display_name": "Python 3",
   "language": "python"
  },
  "interpreter": {
   "hash": "31f2aee4e71d21fbe5cf8b01ff0e069b9275f58929596ceb00d14d90e3e16cd6"
  }
 },
 "nbformat": 4,
 "nbformat_minor": 2,
 "cells": [
  {
   "cell_type": "code",
   "execution_count": 4,
   "metadata": {},
   "outputs": [],
   "source": [
    "from xml.etree import ElementTree as ET\n",
    "\n",
    "wiki_fname = 'kowiki-latest-pages-articles.xml'"
   ]
  },
  {
   "cell_type": "code",
   "execution_count": 5,
   "metadata": {},
   "outputs": [],
   "source": [
    "import re\n",
    "\n",
    "def clean_text(text):    \n",
    "    # Common\n",
    "    text = re.sub(\"(?s)<ref>.+?</ref>\", \"\", text) # remove reference links\n",
    "    text = re.sub(\"(?s)<[^>]+>\", \"\", text) # remove html tags\n",
    "    text = re.sub(\"&[a-z]+;\", \"\", text) # remove html entities\n",
    "    text = re.sub(\"(?s){{.+?}}\", \"\", text) # remove markup tags\n",
    "    text = re.sub(\"(?s){.+?}\", \"\", text) # remove markup tags\n",
    "    text = re.sub(\"(?s)\\[\\[([^]]+\\|)\", \"\", text) # remove link target strings\n",
    "    text = re.sub(\"(?s)\\[\\[([^]]+\\:.+?]])\", \"\", text) # remove media links\n",
    "    \n",
    "    text = re.sub(\"[']{5}\", \"\", text) # remove italic+bold symbols\n",
    "    text = re.sub(\"[']{3}\", \"\", text) # remove bold symbols\n",
    "    text = re.sub(\"[']{2}\", \"\", text) # remove italic symbols\n",
    "    \n",
    "    text = re.sub(u\"[^\\s\\r\\n가-힣.?!]\", \" \", text) # Replace unacceptable characters with a space.\n",
    "    text = re.sub('([.?!]){2,}', '\\\\1', text) # remove repeated punctuation\n",
    "    text = re.sub('\\s[.?!]\\s', '', text) # remove isolated punctuation\n",
    "    \n",
    "    # Common\n",
    "    text = re.sub(\"\\s{2,}\", \" \", text) # Squeeze spaces.\n",
    "    return text"
   ]
  },
  {
   "cell_type": "code",
   "execution_count": 10,
   "metadata": {},
   "outputs": [],
   "source": [
    "def sentence_segment(text):\n",
    "    '''\n",
    "    Args:\n",
    "      text: A string. A unsegmented paragraph.\n",
    "    \n",
    "    Returns:\n",
    "      A list of sentences.\n",
    "    '''\n",
    "    return re.split('([.?!])?[\\n]+|[.?!] ', text)"
   ]
  },
  {
   "cell_type": "code",
   "execution_count": 11,
   "metadata": {},
   "outputs": [],
   "source": [
    "from konlpy.tag import Mecab\n",
    "\n",
    "mecab = Mecab()\n",
    "def word_segment(text):\n",
    "    return [word for word, _ in mecab.pos(text)]"
   ]
  },
  {
   "cell_type": "code",
   "execution_count": 47,
   "metadata": {},
   "outputs": [],
   "source": [
    "with open(f'./data/{wiki_fname.split(\"-\")[0]}_corpus.txt', 'w', encoding='utf-8') as fout:\n",
    "    fout.close()"
   ]
  },
  {
   "cell_type": "code",
   "execution_count": 49,
   "metadata": {
    "tags": []
   },
   "outputs": [
    {
     "output_type": "stream",
     "name": "stderr",
     "text": [
      "25979812it [30:56, 13991.10it/s]\n"
     ]
    }
   ],
   "source": [
    "import itertools\n",
    "from tqdm import tqdm\n",
    "\n",
    "ns = '{http://www.mediawiki.org/xml/export-0.10/}'\n",
    "with open(f'./data/{wiki_fname.split(\"-\")[0]}_corpus.txt', 'w', encoding='utf-8') as fout:\n",
    "    for _, elem in tqdm(ET.iterparse(f'./data/{wiki_fname}')):\n",
    "        try:\n",
    "            tag = elem.tag.replace(ns, '')\n",
    "            if tag == 'text':\n",
    "                running_text = clean_text(elem.text)\n",
    "                sents = sentence_segment(running_text)\n",
    "                for sent in sents:\n",
    "                    if sent:\n",
    "                        words = word_segment(sent)\n",
    "                        if len(words) > 10:\n",
    "                            fout.write(' '.join(words) + '\\n')\n",
    "        except:\n",
    "            continue\n",
    "        elem.clear()"
   ]
  },
  {
   "cell_type": "code",
   "execution_count": null,
   "metadata": {},
   "outputs": [],
   "source": []
  },
  {
   "cell_type": "code",
   "execution_count": 18,
   "metadata": {},
   "outputs": [
    {
     "output_type": "stream",
     "name": "stdout",
     "text": [
      "Done do that"
     ]
    }
   ],
   "source": [
    "print('Done ', end='')\n",
    "print('do that', end='')"
   ]
  }
 ]
}