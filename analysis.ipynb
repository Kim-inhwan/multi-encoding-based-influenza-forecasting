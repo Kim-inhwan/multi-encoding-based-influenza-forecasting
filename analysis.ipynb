{
 "metadata": {
  "orig_nbformat": 4,
  "kernelspec": {
   "name": "python3",
   "display_name": "Python 3.6.9 64-bit"
  },
  "interpreter": {
   "hash": "31f2aee4e71d21fbe5cf8b01ff0e069b9275f58929596ceb00d14d90e3e16cd6"
  }
 },
 "nbformat": 4,
 "nbformat_minor": 2,
 "cells": [
  {
   "source": [
    "# Analysis"
   ],
   "cell_type": "markdown",
   "metadata": {}
  },
  {
   "cell_type": "code",
   "execution_count": 2,
   "metadata": {},
   "outputs": [],
   "source": [
    "from tqdm import tqdm\n",
    "import pandas as pd\n",
    "\n",
    "flu_rate = pd.read_csv('./data/170102_210531_influenza.csv')\n",
    "word_trends = pd.read_csv('./data/독감+증상_word_trends.csv')"
   ]
  },
  {
   "cell_type": "code",
   "execution_count": 3,
   "metadata": {},
   "outputs": [],
   "source": [
    "def cross_corr(x, y, max_lag=0):\n",
    "    '''\n",
    "    Args:\n",
    "        x (pandas.Series): fixed data\n",
    "        y (pandas.Series): data to be shifted\n",
    "    \n",
    "    Returns:\n",
    "        corr (pandas.Series): {0: XX.XX, 1: XX.XX, ..., max_lag: XX.XX}\n",
    "    '''\n",
    "    corr = {}\n",
    "    for lag in range(max_lag+1):\n",
    "        corr[lag] = x.corr(y.shift(lag))\n",
    "    return pd.Series(corr)\n"
   ]
  },
  {
   "cell_type": "code",
   "execution_count": 27,
   "metadata": {},
   "outputs": [
    {
     "output_type": "stream",
     "name": "stderr",
     "text": [
      "100%|██████████| 1000/1000 [00:05<00:00, 194.77it/s]\n"
     ]
    }
   ],
   "source": [
    "word_trends_with_lag = {word: cross_corr(flu_rate['ratio'], word_trends[word], max_lag=12)\n",
    "                         for word in tqdm(word_trends.columns[1:])}"
   ]
  },
  {
   "cell_type": "code",
   "execution_count": 30,
   "metadata": {},
   "outputs": [],
   "source": [
    "corr_topn = []\n",
    "for word, corr in word_trends_with_lag.items():\n",
    "    lag = corr.argmax()\n",
    "    max_corr = corr[lag]\n",
    "    corr_topn.append((word, max_corr, lag))\n",
    "\n",
    "corr_topn.sort(key=(lambda x: x[1]), reverse=True)"
   ]
  },
  {
   "cell_type": "code",
   "execution_count": 4,
   "metadata": {},
   "outputs": [],
   "source": [
    "tmp = [5.61697     ,\n",
    "2.84308     ,\n",
    "1.65605     ,\n",
    "1.06527     ,\n",
    "0.97013     ,\n",
    "0.8289       ,\n",
    "0.65            ,\n",
    "0.55869     ,\n",
    "0.52322     ,\n",
    "0.57457     ,\n",
    "0.83569     ,\n",
    "1.1787       ,\n",
    "1.18231     ,\n",
    "1.43675     ,\n",
    "1.23246     ,\n",
    "0.95437     ,\n",
    "0.75062     ,\n",
    "0.5149       ,\n",
    "0.42841     ,\n",
    "0.41822     ,\n",
    "0.36272     ,\n",
    "0.36381     ,\n",
    "0.32122     ,\n",
    "0.26593     ,\n",
    "0.21568     ,\n",
    "0.16871     ,\n",
    "0.17013     ,\n",
    "0.17013     ,\n",
    "0.20561     ,\n",
    "0.16313     ,\n",
    "0.15294     ,\n",
    "0.17626     ,\n",
    "0.19192     ,\n",
    "0.30885     ,\n",
    "0.4052       ,\n",
    "0.56778     ,\n",
    "0.64091     ,\n",
    "0.70146     ,\n",
    "0.79375     ,\n",
    "0.48085     ,\n",
    "1.09987     ,\n",
    "1.22096     ,\n",
    "1.13502     ,\n",
    "1.1487       ,\n",
    "0.9975       ,\n",
    "1.00572     ,\n",
    "1.0875       ,\n",
    "1.74046     ,\n",
    "2.89924     ,\n",
    "3.98598     ,\n",
    "7.22386     ,\n",
    "10.17194   ,\n",
    "12.62679   ,\n",
    "11.04595   ,\n",
    "6.55973     ,\n",
    "4.13094     ,\n",
    "2.75648     ,\n",
    "2.14621     ,\n",
    "1.42362     ,\n",
    "1.24165     ,\n",
    "0.8728       ,\n",
    "0.72544     ,\n",
    "0.71328     ,\n",
    "0.70715     ,\n",
    "0.64267     ,\n",
    "0.60489     ,\n",
    "0.61508     ,\n",
    "0.61694     ,\n",
    "0.57172     ,\n",
    "0.5449       ,\n",
    "0.5045       ,\n",
    "0.45348     ,\n",
    "0.45085     ,\n",
    "0.3937       ,\n",
    "0.30983     ,\n",
    "0.30983     ,\n",
    "0.27776     ,\n",
    "0.23878     ,\n",
    "0.20013     ,\n",
    "0.21141     ,\n",
    "0.21196     ,\n",
    "0.15502     ,\n",
    "0.16948     ,\n",
    "0.15601     ,\n",
    "0.16904     ,\n",
    "0.20725     ,\n",
    "0.29571     ,\n",
    "0.63205     ,\n",
    "0.91835     ,\n",
    "0.76792     ,\n",
    "0.85813     ,\n",
    "2.70414     ,\n",
    "1.73061     ,\n",
    "1.622          ,\n",
    "1.54142     ,\n",
    "1.64861     ,\n",
    "1.96436     ,\n",
    "2.24365     ,\n",
    "2.81877     ,\n",
    "4.30699     ,\n",
    "6.57101     ,\n",
    "8.48194     ,\n",
    "13.03823   ,\n",
    "10.5282     ,\n",
    "5.45471     ,\n",
    "3.36915     ,\n",
    "1.88859     ,\n",
    "1.85137     ,\n",
    "1.48186     ,\n",
    "0.91342     ,\n",
    "0.83919     ,\n",
    "0.78062     ,\n",
    "0.73792     ,\n",
    "0.74055     ,\n",
    "1.31764     ,\n",
    "2.57867     ,\n",
    "3.66475     ,\n",
    "4.08276     ,\n",
    "4.84247     ,\n",
    "4.65898     ,\n",
    "3.29415     ,\n",
    "2.7729       ,\n",
    "1.46303     ,\n",
    "1.07108     ,\n",
    "0.76649     ,\n",
    "0.6119       ,\n",
    "0.48063     ,\n",
    "0.50034     ,\n",
    "0.38286     ,\n",
    "0.31739     ,\n",
    "0.28816     ,\n",
    "0.30108     ,\n",
    "0.27283     ,\n",
    "0.2217       ,\n",
    "0.20911     ,\n",
    "0.21261     ,\n",
    "0.22597     ,\n",
    "0.27688     ,\n",
    "0.36129     ,\n",
    "0.45742     ,\n",
    "0.51457     ,\n",
    "1.11093     ,\n",
    "1.24997     ,\n",
    "1.17049     ,\n",
    "1.53244     ,\n",
    "2.09267     ,\n",
    "2.23008     ,\n",
    "2.19997     ,\n",
    "2.02578     ,\n",
    "2.46667     ,\n",
    "2.31876     ,\n",
    "2.24518     ,\n",
    "2.48517     ,\n",
    "3.38535     ,\n",
    "4.54183     ,\n",
    "5.50595     ,\n",
    "6.48912     ,\n",
    "6.65137     ,\n",
    "4.96663     ,\n",
    "4.366          ,\n",
    "5.02652     ,\n",
    "2.58469     ,\n",
    "1.18844     ,\n",
    "1.33461     ,\n",
    "1.53091     ,\n",
    "0.83547     ,\n",
    "0.70792     ,\n",
    "1.1706       ,\n",
    "0.60708     ,\n",
    "0.47428     ,\n",
    "0.45698     ,\n",
    "0.34334     ,\n",
    "0.3695       ,\n",
    "0.28794     ,\n",
    "0.26922     ,\n",
    "0.33699     ,\n",
    "0.55486     ,\n",
    "0.3833       ,\n",
    "0.33567     ,\n",
    "0.27644     ,\n",
    "0.26046     ,\n",
    "0.27633     ,\n",
    "0.32921     ,\n",
    "0.28641     ,\n",
    "0.25936     ,\n",
    "0.25225     ,\n",
    "0.21042     ,\n",
    "0.19006     ,\n",
    "0.25706     ,\n",
    "0.41242     ,\n",
    "0.58136     ,\n",
    "0.95973     ,\n",
    "6.76885     ,\n",
    "4.51074     ,\n",
    "100.0          ,\n",
    "5.79422     ,\n",
    "8.30743     ,\n",
    "6.42901     ,\n",
    "34.00552   ,\n",
    "5.01228     ,\n",
    "1.67017     ,\n",
    "1.17782     ,\n",
    "0.96302     ,\n",
    "0.86153     ,\n",
    "0.77799     ,\n",
    "0.78981     ,\n",
    "0.73157     ,\n",
    "0.57632     ,\n",
    "0.48643     ,\n",
    "0.38757     ,\n",
    "0.37553     ,\n",
    "0.31783     ,\n",
    "0.29911     ,\n",
    "0.27962     ,\n",
    "0.22904     ,\n",
    "0.26079     ,\n",
    "0.24371     ,\n",
    "0.27852     ,\n",
    "0.2713       ,\n",
    "0.26856     ,\n",
    "0.24206     ,\n",
    "0.26396     ,\n",
    "0.27951     ,\n",
    "0.26276     ,\n",
    "0.29352     ,\n",
    "0.24535     ,\n",
    "0.27885     ,\n",
    "0.26319     ,\n",
    "0.24053     ,\n",
    "0.26582     ,\n",
    "0.26111     ,]\n",
    "\n",
    "tmp = pd.Series(tmp)"
   ]
  },
  {
   "cell_type": "code",
   "execution_count": 5,
   "metadata": {},
   "outputs": [
    {
     "output_type": "execute_result",
     "data": {
      "text/plain": [
       "<AxesSubplot:>"
      ]
     },
     "metadata": {},
     "execution_count": 5
    },
    {
     "output_type": "display_data",
     "data": {
      "text/plain": "<Figure size 432x288 with 1 Axes>",
      "image/svg+xml": "<?xml version=\"1.0\" encoding=\"utf-8\" standalone=\"no\"?>\n<!DOCTYPE svg PUBLIC \"-//W3C//DTD SVG 1.1//EN\"\n  \"http://www.w3.org/Graphics/SVG/1.1/DTD/svg11.dtd\">\n<!-- Created with matplotlib (https://matplotlib.org/) -->\n<svg height=\"248.518125pt\" version=\"1.1\" viewBox=\"0 0 375.2875 248.518125\" width=\"375.2875pt\" xmlns=\"http://www.w3.org/2000/svg\" xmlns:xlink=\"http://www.w3.org/1999/xlink\">\n <metadata>\n  <rdf:RDF xmlns:cc=\"http://creativecommons.org/ns#\" xmlns:dc=\"http://purl.org/dc/elements/1.1/\" xmlns:rdf=\"http://www.w3.org/1999/02/22-rdf-syntax-ns#\">\n   <cc:Work>\n    <dc:type rdf:resource=\"http://purl.org/dc/dcmitype/StillImage\"/>\n    <dc:date>2021-06-15T13:03:50.301109</dc:date>\n    <dc:format>image/svg+xml</dc:format>\n    <dc:creator>\n     <cc:Agent>\n      <dc:title>Matplotlib v3.3.4, https://matplotlib.org/</dc:title>\n     </cc:Agent>\n    </dc:creator>\n   </cc:Work>\n  </rdf:RDF>\n </metadata>\n <defs>\n  <style type=\"text/css\">*{stroke-linecap:butt;stroke-linejoin:round;}</style>\n </defs>\n <g id=\"figure_1\">\n  <g id=\"patch_1\">\n   <path d=\"M 0 248.518125 \nL 375.2875 248.518125 \nL 375.2875 0 \nL 0 0 \nz\n\" style=\"fill:none;\"/>\n  </g>\n  <g id=\"axes_1\">\n   <g id=\"patch_2\">\n    <path d=\"M 33.2875 224.64 \nL 368.0875 224.64 \nL 368.0875 7.2 \nL 33.2875 7.2 \nz\n\" style=\"fill:#ffffff;\"/>\n   </g>\n   <g id=\"matplotlib.axis_1\">\n    <g id=\"xtick_1\">\n     <g id=\"line2d_1\">\n      <defs>\n       <path d=\"M 0 0 \nL 0 3.5 \n\" id=\"md98afd4a37\" style=\"stroke:#000000;stroke-width:0.8;\"/>\n      </defs>\n      <g>\n       <use style=\"stroke:#000000;stroke-width:0.8;\" x=\"48.505682\" xlink:href=\"#md98afd4a37\" y=\"224.64\"/>\n      </g>\n     </g>\n     <g id=\"text_1\">\n      <!-- 0 -->\n      <g transform=\"translate(45.324432 239.238437)scale(0.1 -0.1)\">\n       <defs>\n        <path d=\"M 31.78125 66.40625 \nQ 24.171875 66.40625 20.328125 58.90625 \nQ 16.5 51.421875 16.5 36.375 \nQ 16.5 21.390625 20.328125 13.890625 \nQ 24.171875 6.390625 31.78125 6.390625 \nQ 39.453125 6.390625 43.28125 13.890625 \nQ 47.125 21.390625 47.125 36.375 \nQ 47.125 51.421875 43.28125 58.90625 \nQ 39.453125 66.40625 31.78125 66.40625 \nz\nM 31.78125 74.21875 \nQ 44.046875 74.21875 50.515625 64.515625 \nQ 56.984375 54.828125 56.984375 36.375 \nQ 56.984375 17.96875 50.515625 8.265625 \nQ 44.046875 -1.421875 31.78125 -1.421875 \nQ 19.53125 -1.421875 13.0625 8.265625 \nQ 6.59375 17.96875 6.59375 36.375 \nQ 6.59375 54.828125 13.0625 64.515625 \nQ 19.53125 74.21875 31.78125 74.21875 \nz\n\" id=\"DejaVuSans-48\"/>\n       </defs>\n       <use xlink:href=\"#DejaVuSans-48\"/>\n      </g>\n     </g>\n    </g>\n    <g id=\"xtick_2\">\n     <g id=\"line2d_2\">\n      <g>\n       <use style=\"stroke:#000000;stroke-width:0.8;\" x=\"114.67169\" xlink:href=\"#md98afd4a37\" y=\"224.64\"/>\n      </g>\n     </g>\n     <g id=\"text_2\">\n      <!-- 50 -->\n      <g transform=\"translate(108.30919 239.238437)scale(0.1 -0.1)\">\n       <defs>\n        <path d=\"M 10.796875 72.90625 \nL 49.515625 72.90625 \nL 49.515625 64.59375 \nL 19.828125 64.59375 \nL 19.828125 46.734375 \nQ 21.96875 47.46875 24.109375 47.828125 \nQ 26.265625 48.1875 28.421875 48.1875 \nQ 40.625 48.1875 47.75 41.5 \nQ 54.890625 34.8125 54.890625 23.390625 \nQ 54.890625 11.625 47.5625 5.09375 \nQ 40.234375 -1.421875 26.90625 -1.421875 \nQ 22.3125 -1.421875 17.546875 -0.640625 \nQ 12.796875 0.140625 7.71875 1.703125 \nL 7.71875 11.625 \nQ 12.109375 9.234375 16.796875 8.0625 \nQ 21.484375 6.890625 26.703125 6.890625 \nQ 35.15625 6.890625 40.078125 11.328125 \nQ 45.015625 15.765625 45.015625 23.390625 \nQ 45.015625 31 40.078125 35.4375 \nQ 35.15625 39.890625 26.703125 39.890625 \nQ 22.75 39.890625 18.8125 39.015625 \nQ 14.890625 38.140625 10.796875 36.28125 \nz\n\" id=\"DejaVuSans-53\"/>\n       </defs>\n       <use xlink:href=\"#DejaVuSans-53\"/>\n       <use x=\"63.623047\" xlink:href=\"#DejaVuSans-48\"/>\n      </g>\n     </g>\n    </g>\n    <g id=\"xtick_3\">\n     <g id=\"line2d_3\">\n      <g>\n       <use style=\"stroke:#000000;stroke-width:0.8;\" x=\"180.837698\" xlink:href=\"#md98afd4a37\" y=\"224.64\"/>\n      </g>\n     </g>\n     <g id=\"text_3\">\n      <!-- 100 -->\n      <g transform=\"translate(171.293948 239.238437)scale(0.1 -0.1)\">\n       <defs>\n        <path d=\"M 12.40625 8.296875 \nL 28.515625 8.296875 \nL 28.515625 63.921875 \nL 10.984375 60.40625 \nL 10.984375 69.390625 \nL 28.421875 72.90625 \nL 38.28125 72.90625 \nL 38.28125 8.296875 \nL 54.390625 8.296875 \nL 54.390625 0 \nL 12.40625 0 \nz\n\" id=\"DejaVuSans-49\"/>\n       </defs>\n       <use xlink:href=\"#DejaVuSans-49\"/>\n       <use x=\"63.623047\" xlink:href=\"#DejaVuSans-48\"/>\n       <use x=\"127.246094\" xlink:href=\"#DejaVuSans-48\"/>\n      </g>\n     </g>\n    </g>\n    <g id=\"xtick_4\">\n     <g id=\"line2d_4\">\n      <g>\n       <use style=\"stroke:#000000;stroke-width:0.8;\" x=\"247.003706\" xlink:href=\"#md98afd4a37\" y=\"224.64\"/>\n      </g>\n     </g>\n     <g id=\"text_4\">\n      <!-- 150 -->\n      <g transform=\"translate(237.459956 239.238437)scale(0.1 -0.1)\">\n       <use xlink:href=\"#DejaVuSans-49\"/>\n       <use x=\"63.623047\" xlink:href=\"#DejaVuSans-53\"/>\n       <use x=\"127.246094\" xlink:href=\"#DejaVuSans-48\"/>\n      </g>\n     </g>\n    </g>\n    <g id=\"xtick_5\">\n     <g id=\"line2d_5\">\n      <g>\n       <use style=\"stroke:#000000;stroke-width:0.8;\" x=\"313.169713\" xlink:href=\"#md98afd4a37\" y=\"224.64\"/>\n      </g>\n     </g>\n     <g id=\"text_5\">\n      <!-- 200 -->\n      <g transform=\"translate(303.625963 239.238437)scale(0.1 -0.1)\">\n       <defs>\n        <path d=\"M 19.1875 8.296875 \nL 53.609375 8.296875 \nL 53.609375 0 \nL 7.328125 0 \nL 7.328125 8.296875 \nQ 12.9375 14.109375 22.625 23.890625 \nQ 32.328125 33.6875 34.8125 36.53125 \nQ 39.546875 41.84375 41.421875 45.53125 \nQ 43.3125 49.21875 43.3125 52.78125 \nQ 43.3125 58.59375 39.234375 62.25 \nQ 35.15625 65.921875 28.609375 65.921875 \nQ 23.96875 65.921875 18.8125 64.3125 \nQ 13.671875 62.703125 7.8125 59.421875 \nL 7.8125 69.390625 \nQ 13.765625 71.78125 18.9375 73 \nQ 24.125 74.21875 28.421875 74.21875 \nQ 39.75 74.21875 46.484375 68.546875 \nQ 53.21875 62.890625 53.21875 53.421875 \nQ 53.21875 48.921875 51.53125 44.890625 \nQ 49.859375 40.875 45.40625 35.40625 \nQ 44.1875 33.984375 37.640625 27.21875 \nQ 31.109375 20.453125 19.1875 8.296875 \nz\n\" id=\"DejaVuSans-50\"/>\n       </defs>\n       <use xlink:href=\"#DejaVuSans-50\"/>\n       <use x=\"63.623047\" xlink:href=\"#DejaVuSans-48\"/>\n       <use x=\"127.246094\" xlink:href=\"#DejaVuSans-48\"/>\n      </g>\n     </g>\n    </g>\n   </g>\n   <g id=\"matplotlib.axis_2\">\n    <g id=\"ytick_1\">\n     <g id=\"line2d_6\">\n      <defs>\n       <path d=\"M 0 0 \nL -3.5 0 \n\" id=\"mad74d4aec6\" style=\"stroke:#000000;stroke-width:0.8;\"/>\n      </defs>\n      <g>\n       <use style=\"stroke:#000000;stroke-width:0.8;\" x=\"33.2875\" xlink:href=\"#mad74d4aec6\" y=\"215.059147\"/>\n      </g>\n     </g>\n     <g id=\"text_6\">\n      <!-- 0 -->\n      <g transform=\"translate(19.925 218.858366)scale(0.1 -0.1)\">\n       <use xlink:href=\"#DejaVuSans-48\"/>\n      </g>\n     </g>\n    </g>\n    <g id=\"ytick_2\">\n     <g id=\"line2d_7\">\n      <g>\n       <use style=\"stroke:#000000;stroke-width:0.8;\" x=\"33.2875\" xlink:href=\"#mad74d4aec6\" y=\"175.464045\"/>\n      </g>\n     </g>\n     <g id=\"text_7\">\n      <!-- 20 -->\n      <g transform=\"translate(13.5625 179.263264)scale(0.1 -0.1)\">\n       <use xlink:href=\"#DejaVuSans-50\"/>\n       <use x=\"63.623047\" xlink:href=\"#DejaVuSans-48\"/>\n      </g>\n     </g>\n    </g>\n    <g id=\"ytick_3\">\n     <g id=\"line2d_8\">\n      <g>\n       <use style=\"stroke:#000000;stroke-width:0.8;\" x=\"33.2875\" xlink:href=\"#mad74d4aec6\" y=\"135.868943\"/>\n      </g>\n     </g>\n     <g id=\"text_8\">\n      <!-- 40 -->\n      <g transform=\"translate(13.5625 139.668162)scale(0.1 -0.1)\">\n       <defs>\n        <path d=\"M 37.796875 64.3125 \nL 12.890625 25.390625 \nL 37.796875 25.390625 \nz\nM 35.203125 72.90625 \nL 47.609375 72.90625 \nL 47.609375 25.390625 \nL 58.015625 25.390625 \nL 58.015625 17.1875 \nL 47.609375 17.1875 \nL 47.609375 0 \nL 37.796875 0 \nL 37.796875 17.1875 \nL 4.890625 17.1875 \nL 4.890625 26.703125 \nz\n\" id=\"DejaVuSans-52\"/>\n       </defs>\n       <use xlink:href=\"#DejaVuSans-52\"/>\n       <use x=\"63.623047\" xlink:href=\"#DejaVuSans-48\"/>\n      </g>\n     </g>\n    </g>\n    <g id=\"ytick_4\">\n     <g id=\"line2d_9\">\n      <g>\n       <use style=\"stroke:#000000;stroke-width:0.8;\" x=\"33.2875\" xlink:href=\"#mad74d4aec6\" y=\"96.273841\"/>\n      </g>\n     </g>\n     <g id=\"text_9\">\n      <!-- 60 -->\n      <g transform=\"translate(13.5625 100.07306)scale(0.1 -0.1)\">\n       <defs>\n        <path d=\"M 33.015625 40.375 \nQ 26.375 40.375 22.484375 35.828125 \nQ 18.609375 31.296875 18.609375 23.390625 \nQ 18.609375 15.53125 22.484375 10.953125 \nQ 26.375 6.390625 33.015625 6.390625 \nQ 39.65625 6.390625 43.53125 10.953125 \nQ 47.40625 15.53125 47.40625 23.390625 \nQ 47.40625 31.296875 43.53125 35.828125 \nQ 39.65625 40.375 33.015625 40.375 \nz\nM 52.59375 71.296875 \nL 52.59375 62.3125 \nQ 48.875 64.0625 45.09375 64.984375 \nQ 41.3125 65.921875 37.59375 65.921875 \nQ 27.828125 65.921875 22.671875 59.328125 \nQ 17.53125 52.734375 16.796875 39.40625 \nQ 19.671875 43.65625 24.015625 45.921875 \nQ 28.375 48.1875 33.59375 48.1875 \nQ 44.578125 48.1875 50.953125 41.515625 \nQ 57.328125 34.859375 57.328125 23.390625 \nQ 57.328125 12.15625 50.6875 5.359375 \nQ 44.046875 -1.421875 33.015625 -1.421875 \nQ 20.359375 -1.421875 13.671875 8.265625 \nQ 6.984375 17.96875 6.984375 36.375 \nQ 6.984375 53.65625 15.1875 63.9375 \nQ 23.390625 74.21875 37.203125 74.21875 \nQ 40.921875 74.21875 44.703125 73.484375 \nQ 48.484375 72.75 52.59375 71.296875 \nz\n\" id=\"DejaVuSans-54\"/>\n       </defs>\n       <use xlink:href=\"#DejaVuSans-54\"/>\n       <use x=\"63.623047\" xlink:href=\"#DejaVuSans-48\"/>\n      </g>\n     </g>\n    </g>\n    <g id=\"ytick_5\">\n     <g id=\"line2d_10\">\n      <g>\n       <use style=\"stroke:#000000;stroke-width:0.8;\" x=\"33.2875\" xlink:href=\"#mad74d4aec6\" y=\"56.678739\"/>\n      </g>\n     </g>\n     <g id=\"text_10\">\n      <!-- 80 -->\n      <g transform=\"translate(13.5625 60.477957)scale(0.1 -0.1)\">\n       <defs>\n        <path d=\"M 31.78125 34.625 \nQ 24.75 34.625 20.71875 30.859375 \nQ 16.703125 27.09375 16.703125 20.515625 \nQ 16.703125 13.921875 20.71875 10.15625 \nQ 24.75 6.390625 31.78125 6.390625 \nQ 38.8125 6.390625 42.859375 10.171875 \nQ 46.921875 13.96875 46.921875 20.515625 \nQ 46.921875 27.09375 42.890625 30.859375 \nQ 38.875 34.625 31.78125 34.625 \nz\nM 21.921875 38.8125 \nQ 15.578125 40.375 12.03125 44.71875 \nQ 8.5 49.078125 8.5 55.328125 \nQ 8.5 64.0625 14.71875 69.140625 \nQ 20.953125 74.21875 31.78125 74.21875 \nQ 42.671875 74.21875 48.875 69.140625 \nQ 55.078125 64.0625 55.078125 55.328125 \nQ 55.078125 49.078125 51.53125 44.71875 \nQ 48 40.375 41.703125 38.8125 \nQ 48.828125 37.15625 52.796875 32.3125 \nQ 56.78125 27.484375 56.78125 20.515625 \nQ 56.78125 9.90625 50.3125 4.234375 \nQ 43.84375 -1.421875 31.78125 -1.421875 \nQ 19.734375 -1.421875 13.25 4.234375 \nQ 6.78125 9.90625 6.78125 20.515625 \nQ 6.78125 27.484375 10.78125 32.3125 \nQ 14.796875 37.15625 21.921875 38.8125 \nz\nM 18.3125 54.390625 \nQ 18.3125 48.734375 21.84375 45.5625 \nQ 25.390625 42.390625 31.78125 42.390625 \nQ 38.140625 42.390625 41.71875 45.5625 \nQ 45.3125 48.734375 45.3125 54.390625 \nQ 45.3125 60.0625 41.71875 63.234375 \nQ 38.140625 66.40625 31.78125 66.40625 \nQ 25.390625 66.40625 21.84375 63.234375 \nQ 18.3125 60.0625 18.3125 54.390625 \nz\n\" id=\"DejaVuSans-56\"/>\n       </defs>\n       <use xlink:href=\"#DejaVuSans-56\"/>\n       <use x=\"63.623047\" xlink:href=\"#DejaVuSans-48\"/>\n      </g>\n     </g>\n    </g>\n    <g id=\"ytick_6\">\n     <g id=\"line2d_11\">\n      <g>\n       <use style=\"stroke:#000000;stroke-width:0.8;\" x=\"33.2875\" xlink:href=\"#mad74d4aec6\" y=\"17.083636\"/>\n      </g>\n     </g>\n     <g id=\"text_11\">\n      <!-- 100 -->\n      <g transform=\"translate(7.2 20.882855)scale(0.1 -0.1)\">\n       <use xlink:href=\"#DejaVuSans-49\"/>\n       <use x=\"63.623047\" xlink:href=\"#DejaVuSans-48\"/>\n       <use x=\"127.246094\" xlink:href=\"#DejaVuSans-48\"/>\n      </g>\n     </g>\n    </g>\n   </g>\n   <g id=\"line2d_12\">\n    <path clip-path=\"url(#pa7ea1d0514)\" d=\"M 48.505682 203.938922 \nL 49.829002 209.430545 \nL 51.152322 211.780574 \nL 52.475642 212.950174 \nL 55.122283 213.418128 \nL 56.445603 213.772307 \nL 59.092243 214.0233 \nL 60.415563 213.921639 \nL 61.738883 213.404686 \nL 63.062204 212.72561 \nL 64.385524 212.718463 \nL 65.708844 212.214734 \nL 67.032164 212.619178 \nL 68.355484 213.169728 \nL 71.002125 214.039771 \nL 72.325445 214.211 \nL 76.295405 214.338893 \nL 82.912006 214.722332 \nL 90.851927 214.679193 \nL 96.145208 213.790303 \nL 98.791848 213.487717 \nL 100.115168 214.107182 \nL 101.438488 212.881674 \nL 102.761808 212.641946 \nL 104.085128 212.812086 \nL 105.408449 212.785003 \nL 106.731769 213.084342 \nL 108.055089 213.068068 \nL 109.378409 212.906164 \nL 110.701729 211.613463 \nL 113.34837 207.167883 \nL 114.67169 200.757674 \nL 115.99501 194.921197 \nL 117.31833 190.061195 \nL 118.64165 193.190871 \nL 119.96497 202.072488 \nL 121.288291 206.880898 \nL 122.611611 209.601992 \nL 123.934931 210.810177 \nL 125.258251 212.240728 \nL 126.581571 212.600984 \nL 127.904891 213.331217 \nL 129.228211 213.622954 \nL 133.198172 213.786818 \nL 135.844812 213.84144 \nL 138.491453 213.927282 \nL 145.108053 214.279718 \nL 146.431374 214.44576 \nL 149.078014 214.509251 \nL 153.047974 214.640607 \nL 154.371294 214.639518 \nL 155.694615 214.752246 \nL 160.987895 214.648843 \nL 162.311215 214.473714 \nL 164.957856 213.241039 \nL 166.281176 213.538854 \nL 167.604496 213.36026 \nL 168.927816 209.705612 \nL 170.251136 211.632963 \nL 172.897777 212.007513 \nL 174.221097 211.795303 \nL 176.867737 210.61727 \nL 178.191057 209.478673 \nL 179.514377 206.532362 \nL 180.837698 202.050157 \nL 182.161018 198.266983 \nL 183.484338 189.246645 \nL 184.807658 194.21589 \nL 186.130978 204.260157 \nL 187.454298 208.389055 \nL 188.777619 211.320202 \nL 190.100939 211.393888 \nL 191.424259 212.125427 \nL 192.747579 213.250799 \nL 196.71754 213.598246 \nL 198.04086 213.59304 \nL 199.36418 212.450543 \nL 200.6875 209.954012 \nL 202.01082 207.80384 \nL 203.33414 206.976282 \nL 204.65746 205.472243 \nL 205.980781 205.835508 \nL 207.304101 208.537537 \nL 208.627421 209.569484 \nL 209.950741 212.162706 \nL 211.274061 212.938671 \nL 212.597381 213.541685 \nL 215.244022 214.107618 \nL 216.567342 214.068597 \nL 219.213982 214.430793 \nL 225.830583 214.645161 \nL 228.477223 214.611782 \nL 231.123864 214.343882 \nL 233.770504 214.040425 \nL 235.093824 212.859778 \nL 236.417144 212.584513 \nL 237.740464 212.741864 \nL 239.063785 212.025291 \nL 240.387105 210.916173 \nL 241.710425 210.644135 \nL 243.033745 210.703746 \nL 244.357065 211.048599 \nL 245.680385 210.175745 \nL 247.003706 210.46857 \nL 248.327026 210.614241 \nL 249.650346 210.139119 \nL 250.973666 208.356983 \nL 252.296986 206.067436 \nL 254.943626 202.212279 \nL 256.266947 201.891064 \nL 257.590267 205.226436 \nL 258.913587 206.415537 \nL 260.236907 205.107869 \nL 261.560227 209.942094 \nL 262.883547 212.706327 \nL 265.530188 212.02832 \nL 266.853508 213.405121 \nL 268.176828 213.657639 \nL 269.500148 212.741646 \nL 270.823468 213.857278 \nL 272.146789 214.120189 \nL 273.470109 214.154439 \nL 274.793429 214.379418 \nL 276.116749 214.327628 \nL 277.440069 214.489097 \nL 278.763389 214.526158 \nL 280.086709 214.39199 \nL 281.41003 213.96066 \nL 282.73335 214.300307 \nL 286.70331 214.5435 \nL 290.673271 214.492126 \nL 295.966551 214.682875 \nL 297.289872 214.550232 \nL 299.936512 213.908197 \nL 301.259832 213.159117 \nL 302.583152 201.658482 \nL 303.906472 206.128987 \nL 305.229792 17.083636 \nL 306.553113 203.588011 \nL 307.876433 198.61247 \nL 309.199753 202.331282 \nL 310.523073 147.736545 \nL 311.846393 205.13606 \nL 313.169713 211.75262 \nL 314.493034 212.727352 \nL 315.816354 213.152604 \nL 318.462994 213.518918 \nL 319.786314 213.495517 \nL 321.109634 213.610818 \nL 322.432955 213.918175 \nL 325.079595 214.291854 \nL 329.049555 214.466983 \nL 334.342836 214.576661 \nL 336.989476 214.52204 \nL 352.869318 214.542214 \nL 352.869318 214.542214 \n\" style=\"fill:none;stroke:#1f77b4;stroke-linecap:square;stroke-width:1.5;\"/>\n   </g>\n   <g id=\"patch_3\">\n    <path d=\"M 33.2875 224.64 \nL 33.2875 7.2 \n\" style=\"fill:none;stroke:#000000;stroke-linecap:square;stroke-linejoin:miter;stroke-width:0.8;\"/>\n   </g>\n   <g id=\"patch_4\">\n    <path d=\"M 368.0875 224.64 \nL 368.0875 7.2 \n\" style=\"fill:none;stroke:#000000;stroke-linecap:square;stroke-linejoin:miter;stroke-width:0.8;\"/>\n   </g>\n   <g id=\"patch_5\">\n    <path d=\"M 33.2875 224.64 \nL 368.0875 224.64 \n\" style=\"fill:none;stroke:#000000;stroke-linecap:square;stroke-linejoin:miter;stroke-width:0.8;\"/>\n   </g>\n   <g id=\"patch_6\">\n    <path d=\"M 33.2875 7.2 \nL 368.0875 7.2 \n\" style=\"fill:none;stroke:#000000;stroke-linecap:square;stroke-linejoin:miter;stroke-width:0.8;\"/>\n   </g>\n  </g>\n </g>\n <defs>\n  <clipPath id=\"pa7ea1d0514\">\n   <rect height=\"217.44\" width=\"334.8\" x=\"33.2875\" y=\"7.2\"/>\n  </clipPath>\n </defs>\n</svg>\n",
      "image/png": "[encoded data removed]"
     },
     "metadata": {
      "needs_background": "light"
     }
    }
   ],
   "source": [
    "tmp.plot()"
   ]
  },
  {
   "cell_type": "code",
   "execution_count": 6,
   "metadata": {},
   "outputs": [
    {
     "output_type": "execute_result",
     "data": {
      "text/plain": [
       "0.21261542730699362"
      ]
     },
     "metadata": {},
     "execution_count": 6
    }
   ],
   "source": [
    "tmp.corr(flu_rate['ratio'])"
   ]
  },
  {
   "cell_type": "code",
   "execution_count": 33,
   "metadata": {},
   "outputs": [
    {
     "output_type": "execute_result",
     "data": {
      "text/plain": [
       "<AxesSubplot:>"
      ]
     },
     "metadata": {},
     "execution_count": 33
    },
    {
     "output_type": "display_data",
     "data": {
      "text/plain": "<Figure size 432x288 with 1 Axes>",
      "image/svg+xml": "<?xml version=\"1.0\" encoding=\"utf-8\" standalone=\"no\"?>\n<!DOCTYPE svg PUBLIC \"-//W3C//DTD SVG 1.1//EN\"\n  \"http://www.w3.org/Graphics/SVG/1.1/DTD/svg11.dtd\">\n<!-- Created with matplotlib (https://matplotlib.org/) -->\n<svg height=\"248.518125pt\" version=\"1.1\" viewBox=\"0 0 368.925 248.518125\" width=\"368.925pt\" xmlns=\"http://www.w3.org/2000/svg\" xmlns:xlink=\"http://www.w3.org/1999/xlink\">\n <metadata>\n  <rdf:RDF xmlns:cc=\"http://creativecommons.org/ns#\" xmlns:dc=\"http://purl.org/dc/elements/1.1/\" xmlns:rdf=\"http://www.w3.org/1999/02/22-rdf-syntax-ns#\">\n   <cc:Work>\n    <dc:type rdf:resource=\"http://purl.org/dc/dcmitype/StillImage\"/>\n    <dc:date>2021-06-15T04:20:43.552965</dc:date>\n    <dc:format>image/svg+xml</dc:format>\n    <dc:creator>\n     <cc:Agent>\n      <dc:title>Matplotlib v3.3.4, https://matplotlib.org/</dc:title>\n     </cc:Agent>\n    </dc:creator>\n   </cc:Work>\n  </rdf:RDF>\n </metadata>\n <defs>\n  <style type=\"text/css\">*{stroke-linecap:butt;stroke-linejoin:round;}</style>\n </defs>\n <g id=\"figure_1\">\n  <g id=\"patch_1\">\n   <path d=\"M -0 248.518125 \nL 368.925 248.518125 \nL 368.925 0 \nL -0 0 \nz\n\" style=\"fill:none;\"/>\n  </g>\n  <g id=\"axes_1\">\n   <g id=\"patch_2\">\n    <path d=\"M 26.925 224.64 \nL 361.725 224.64 \nL 361.725 7.2 \nL 26.925 7.2 \nz\n\" style=\"fill:#ffffff;\"/>\n   </g>\n   <g id=\"matplotlib.axis_1\">\n    <g id=\"xtick_1\">\n     <g id=\"line2d_1\">\n      <defs>\n       <path d=\"M 0 0 \nL 0 3.5 \n\" id=\"m87eee08efb\" style=\"stroke:#000000;stroke-width:0.8;\"/>\n      </defs>\n      <g>\n       <use style=\"stroke:#000000;stroke-width:0.8;\" x=\"42.143182\" xlink:href=\"#m87eee08efb\" y=\"224.64\"/>\n      </g>\n     </g>\n     <g id=\"text_1\">\n      <!-- 0 -->\n      <g transform=\"translate(38.961932 239.238437)scale(0.1 -0.1)\">\n       <defs>\n        <path d=\"M 31.78125 66.40625 \nQ 24.171875 66.40625 20.328125 58.90625 \nQ 16.5 51.421875 16.5 36.375 \nQ 16.5 21.390625 20.328125 13.890625 \nQ 24.171875 6.390625 31.78125 6.390625 \nQ 39.453125 6.390625 43.28125 13.890625 \nQ 47.125 21.390625 47.125 36.375 \nQ 47.125 51.421875 43.28125 58.90625 \nQ 39.453125 66.40625 31.78125 66.40625 \nz\nM 31.78125 74.21875 \nQ 44.046875 74.21875 50.515625 64.515625 \nQ 56.984375 54.828125 56.984375 36.375 \nQ 56.984375 17.96875 50.515625 8.265625 \nQ 44.046875 -1.421875 31.78125 -1.421875 \nQ 19.53125 -1.421875 13.0625 8.265625 \nQ 6.59375 17.96875 6.59375 36.375 \nQ 6.59375 54.828125 13.0625 64.515625 \nQ 19.53125 74.21875 31.78125 74.21875 \nz\n\" id=\"DejaVuSans-48\"/>\n       </defs>\n       <use xlink:href=\"#DejaVuSans-48\"/>\n      </g>\n     </g>\n    </g>\n    <g id=\"xtick_2\">\n     <g id=\"line2d_2\">\n      <g>\n       <use style=\"stroke:#000000;stroke-width:0.8;\" x=\"108.30919\" xlink:href=\"#m87eee08efb\" y=\"224.64\"/>\n      </g>\n     </g>\n     <g id=\"text_2\">\n      <!-- 50 -->\n      <g transform=\"translate(101.94669 239.238437)scale(0.1 -0.1)\">\n       <defs>\n        <path d=\"M 10.796875 72.90625 \nL 49.515625 72.90625 \nL 49.515625 64.59375 \nL 19.828125 64.59375 \nL 19.828125 46.734375 \nQ 21.96875 47.46875 24.109375 47.828125 \nQ 26.265625 48.1875 28.421875 48.1875 \nQ 40.625 48.1875 47.75 41.5 \nQ 54.890625 34.8125 54.890625 23.390625 \nQ 54.890625 11.625 47.5625 5.09375 \nQ 40.234375 -1.421875 26.90625 -1.421875 \nQ 22.3125 -1.421875 17.546875 -0.640625 \nQ 12.796875 0.140625 7.71875 1.703125 \nL 7.71875 11.625 \nQ 12.109375 9.234375 16.796875 8.0625 \nQ 21.484375 6.890625 26.703125 6.890625 \nQ 35.15625 6.890625 40.078125 11.328125 \nQ 45.015625 15.765625 45.015625 23.390625 \nQ 45.015625 31 40.078125 35.4375 \nQ 35.15625 39.890625 26.703125 39.890625 \nQ 22.75 39.890625 18.8125 39.015625 \nQ 14.890625 38.140625 10.796875 36.28125 \nz\n\" id=\"DejaVuSans-53\"/>\n       </defs>\n       <use xlink:href=\"#DejaVuSans-53\"/>\n       <use x=\"63.623047\" xlink:href=\"#DejaVuSans-48\"/>\n      </g>\n     </g>\n    </g>\n    <g id=\"xtick_3\">\n     <g id=\"line2d_3\">\n      <g>\n       <use style=\"stroke:#000000;stroke-width:0.8;\" x=\"174.475198\" xlink:href=\"#m87eee08efb\" y=\"224.64\"/>\n      </g>\n     </g>\n     <g id=\"text_3\">\n      <!-- 100 -->\n      <g transform=\"translate(164.931448 239.238437)scale(0.1 -0.1)\">\n       <defs>\n        <path d=\"M 12.40625 8.296875 \nL 28.515625 8.296875 \nL 28.515625 63.921875 \nL 10.984375 60.40625 \nL 10.984375 69.390625 \nL 28.421875 72.90625 \nL 38.28125 72.90625 \nL 38.28125 8.296875 \nL 54.390625 8.296875 \nL 54.390625 0 \nL 12.40625 0 \nz\n\" id=\"DejaVuSans-49\"/>\n       </defs>\n       <use xlink:href=\"#DejaVuSans-49\"/>\n       <use x=\"63.623047\" xlink:href=\"#DejaVuSans-48\"/>\n       <use x=\"127.246094\" xlink:href=\"#DejaVuSans-48\"/>\n      </g>\n     </g>\n    </g>\n    <g id=\"xtick_4\">\n     <g id=\"line2d_4\">\n      <g>\n       <use style=\"stroke:#000000;stroke-width:0.8;\" x=\"240.641206\" xlink:href=\"#m87eee08efb\" y=\"224.64\"/>\n      </g>\n     </g>\n     <g id=\"text_4\">\n      <!-- 150 -->\n      <g transform=\"translate(231.097456 239.238437)scale(0.1 -0.1)\">\n       <use xlink:href=\"#DejaVuSans-49\"/>\n       <use x=\"63.623047\" xlink:href=\"#DejaVuSans-53\"/>\n       <use x=\"127.246094\" xlink:href=\"#DejaVuSans-48\"/>\n      </g>\n     </g>\n    </g>\n    <g id=\"xtick_5\">\n     <g id=\"line2d_5\">\n      <g>\n       <use style=\"stroke:#000000;stroke-width:0.8;\" x=\"306.807213\" xlink:href=\"#m87eee08efb\" y=\"224.64\"/>\n      </g>\n     </g>\n     <g id=\"text_5\">\n      <!-- 200 -->\n      <g transform=\"translate(297.263463 239.238437)scale(0.1 -0.1)\">\n       <defs>\n        <path d=\"M 19.1875 8.296875 \nL 53.609375 8.296875 \nL 53.609375 0 \nL 7.328125 0 \nL 7.328125 8.296875 \nQ 12.9375 14.109375 22.625 23.890625 \nQ 32.328125 33.6875 34.8125 36.53125 \nQ 39.546875 41.84375 41.421875 45.53125 \nQ 43.3125 49.21875 43.3125 52.78125 \nQ 43.3125 58.59375 39.234375 62.25 \nQ 35.15625 65.921875 28.609375 65.921875 \nQ 23.96875 65.921875 18.8125 64.3125 \nQ 13.671875 62.703125 7.8125 59.421875 \nL 7.8125 69.390625 \nQ 13.765625 71.78125 18.9375 73 \nQ 24.125 74.21875 28.421875 74.21875 \nQ 39.75 74.21875 46.484375 68.546875 \nQ 53.21875 62.890625 53.21875 53.421875 \nQ 53.21875 48.921875 51.53125 44.890625 \nQ 49.859375 40.875 45.40625 35.40625 \nQ 44.1875 33.984375 37.640625 27.21875 \nQ 31.109375 20.453125 19.1875 8.296875 \nz\n\" id=\"DejaVuSans-50\"/>\n       </defs>\n       <use xlink:href=\"#DejaVuSans-50\"/>\n       <use x=\"63.623047\" xlink:href=\"#DejaVuSans-48\"/>\n       <use x=\"127.246094\" xlink:href=\"#DejaVuSans-48\"/>\n      </g>\n     </g>\n    </g>\n   </g>\n   <g id=\"matplotlib.axis_2\">\n    <g id=\"ytick_1\">\n     <g id=\"line2d_6\">\n      <defs>\n       <path d=\"M 0 0 \nL -3.5 0 \n\" id=\"m1d1645a36a\" style=\"stroke:#000000;stroke-width:0.8;\"/>\n      </defs>\n      <g>\n       <use style=\"stroke:#000000;stroke-width:0.8;\" x=\"26.925\" xlink:href=\"#m1d1645a36a\" y=\"218.04634\"/>\n      </g>\n     </g>\n     <g id=\"text_6\">\n      <!-- 0 -->\n      <g transform=\"translate(13.5625 221.845558)scale(0.1 -0.1)\">\n       <use xlink:href=\"#DejaVuSans-48\"/>\n      </g>\n     </g>\n    </g>\n    <g id=\"ytick_2\">\n     <g id=\"line2d_7\">\n      <g>\n       <use style=\"stroke:#000000;stroke-width:0.8;\" x=\"26.925\" xlink:href=\"#m1d1645a36a\" y=\"190.629873\"/>\n      </g>\n     </g>\n     <g id=\"text_7\">\n      <!-- 10 -->\n      <g transform=\"translate(7.2 194.429091)scale(0.1 -0.1)\">\n       <use xlink:href=\"#DejaVuSans-49\"/>\n       <use x=\"63.623047\" xlink:href=\"#DejaVuSans-48\"/>\n      </g>\n     </g>\n    </g>\n    <g id=\"ytick_3\">\n     <g id=\"line2d_8\">\n      <g>\n       <use style=\"stroke:#000000;stroke-width:0.8;\" x=\"26.925\" xlink:href=\"#m1d1645a36a\" y=\"163.213406\"/>\n      </g>\n     </g>\n     <g id=\"text_8\">\n      <!-- 20 -->\n      <g transform=\"translate(7.2 167.012624)scale(0.1 -0.1)\">\n       <use xlink:href=\"#DejaVuSans-50\"/>\n       <use x=\"63.623047\" xlink:href=\"#DejaVuSans-48\"/>\n      </g>\n     </g>\n    </g>\n    <g id=\"ytick_4\">\n     <g id=\"line2d_9\">\n      <g>\n       <use style=\"stroke:#000000;stroke-width:0.8;\" x=\"26.925\" xlink:href=\"#m1d1645a36a\" y=\"135.796939\"/>\n      </g>\n     </g>\n     <g id=\"text_9\">\n      <!-- 30 -->\n      <g transform=\"translate(7.2 139.596157)scale(0.1 -0.1)\">\n       <defs>\n        <path d=\"M 40.578125 39.3125 \nQ 47.65625 37.796875 51.625 33 \nQ 55.609375 28.21875 55.609375 21.1875 \nQ 55.609375 10.40625 48.1875 4.484375 \nQ 40.765625 -1.421875 27.09375 -1.421875 \nQ 22.515625 -1.421875 17.65625 -0.515625 \nQ 12.796875 0.390625 7.625 2.203125 \nL 7.625 11.71875 \nQ 11.71875 9.328125 16.59375 8.109375 \nQ 21.484375 6.890625 26.8125 6.890625 \nQ 36.078125 6.890625 40.9375 10.546875 \nQ 45.796875 14.203125 45.796875 21.1875 \nQ 45.796875 27.640625 41.28125 31.265625 \nQ 36.765625 34.90625 28.71875 34.90625 \nL 20.21875 34.90625 \nL 20.21875 43.015625 \nL 29.109375 43.015625 \nQ 36.375 43.015625 40.234375 45.921875 \nQ 44.09375 48.828125 44.09375 54.296875 \nQ 44.09375 59.90625 40.109375 62.90625 \nQ 36.140625 65.921875 28.71875 65.921875 \nQ 24.65625 65.921875 20.015625 65.03125 \nQ 15.375 64.15625 9.8125 62.3125 \nL 9.8125 71.09375 \nQ 15.4375 72.65625 20.34375 73.4375 \nQ 25.25 74.21875 29.59375 74.21875 \nQ 40.828125 74.21875 47.359375 69.109375 \nQ 53.90625 64.015625 53.90625 55.328125 \nQ 53.90625 49.265625 50.4375 45.09375 \nQ 46.96875 40.921875 40.578125 39.3125 \nz\n\" id=\"DejaVuSans-51\"/>\n       </defs>\n       <use xlink:href=\"#DejaVuSans-51\"/>\n       <use x=\"63.623047\" xlink:href=\"#DejaVuSans-48\"/>\n      </g>\n     </g>\n    </g>\n    <g id=\"ytick_5\">\n     <g id=\"line2d_10\">\n      <g>\n       <use style=\"stroke:#000000;stroke-width:0.8;\" x=\"26.925\" xlink:href=\"#m1d1645a36a\" y=\"108.380472\"/>\n      </g>\n     </g>\n     <g id=\"text_10\">\n      <!-- 40 -->\n      <g transform=\"translate(7.2 112.17969)scale(0.1 -0.1)\">\n       <defs>\n        <path d=\"M 37.796875 64.3125 \nL 12.890625 25.390625 \nL 37.796875 25.390625 \nz\nM 35.203125 72.90625 \nL 47.609375 72.90625 \nL 47.609375 25.390625 \nL 58.015625 25.390625 \nL 58.015625 17.1875 \nL 47.609375 17.1875 \nL 47.609375 0 \nL 37.796875 0 \nL 37.796875 17.1875 \nL 4.890625 17.1875 \nL 4.890625 26.703125 \nz\n\" id=\"DejaVuSans-52\"/>\n       </defs>\n       <use xlink:href=\"#DejaVuSans-52\"/>\n       <use x=\"63.623047\" xlink:href=\"#DejaVuSans-48\"/>\n      </g>\n     </g>\n    </g>\n    <g id=\"ytick_6\">\n     <g id=\"line2d_11\">\n      <g>\n       <use style=\"stroke:#000000;stroke-width:0.8;\" x=\"26.925\" xlink:href=\"#m1d1645a36a\" y=\"80.964005\"/>\n      </g>\n     </g>\n     <g id=\"text_11\">\n      <!-- 50 -->\n      <g transform=\"translate(7.2 84.763223)scale(0.1 -0.1)\">\n       <use xlink:href=\"#DejaVuSans-53\"/>\n       <use x=\"63.623047\" xlink:href=\"#DejaVuSans-48\"/>\n      </g>\n     </g>\n    </g>\n    <g id=\"ytick_7\">\n     <g id=\"line2d_12\">\n      <g>\n       <use style=\"stroke:#000000;stroke-width:0.8;\" x=\"26.925\" xlink:href=\"#m1d1645a36a\" y=\"53.547538\"/>\n      </g>\n     </g>\n     <g id=\"text_12\">\n      <!-- 60 -->\n      <g transform=\"translate(7.2 57.346756)scale(0.1 -0.1)\">\n       <defs>\n        <path d=\"M 33.015625 40.375 \nQ 26.375 40.375 22.484375 35.828125 \nQ 18.609375 31.296875 18.609375 23.390625 \nQ 18.609375 15.53125 22.484375 10.953125 \nQ 26.375 6.390625 33.015625 6.390625 \nQ 39.65625 6.390625 43.53125 10.953125 \nQ 47.40625 15.53125 47.40625 23.390625 \nQ 47.40625 31.296875 43.53125 35.828125 \nQ 39.65625 40.375 33.015625 40.375 \nz\nM 52.59375 71.296875 \nL 52.59375 62.3125 \nQ 48.875 64.0625 45.09375 64.984375 \nQ 41.3125 65.921875 37.59375 65.921875 \nQ 27.828125 65.921875 22.671875 59.328125 \nQ 17.53125 52.734375 16.796875 39.40625 \nQ 19.671875 43.65625 24.015625 45.921875 \nQ 28.375 48.1875 33.59375 48.1875 \nQ 44.578125 48.1875 50.953125 41.515625 \nQ 57.328125 34.859375 57.328125 23.390625 \nQ 57.328125 12.15625 50.6875 5.359375 \nQ 44.046875 -1.421875 33.015625 -1.421875 \nQ 20.359375 -1.421875 13.671875 8.265625 \nQ 6.984375 17.96875 6.984375 36.375 \nQ 6.984375 53.65625 15.1875 63.9375 \nQ 23.390625 74.21875 37.203125 74.21875 \nQ 40.921875 74.21875 44.703125 73.484375 \nQ 48.484375 72.75 52.59375 71.296875 \nz\n\" id=\"DejaVuSans-54\"/>\n       </defs>\n       <use xlink:href=\"#DejaVuSans-54\"/>\n       <use x=\"63.623047\" xlink:href=\"#DejaVuSans-48\"/>\n      </g>\n     </g>\n    </g>\n    <g id=\"ytick_8\">\n     <g id=\"line2d_13\">\n      <g>\n       <use style=\"stroke:#000000;stroke-width:0.8;\" x=\"26.925\" xlink:href=\"#m1d1645a36a\" y=\"26.13107\"/>\n      </g>\n     </g>\n     <g id=\"text_13\">\n      <!-- 70 -->\n      <g transform=\"translate(7.2 29.930289)scale(0.1 -0.1)\">\n       <defs>\n        <path d=\"M 8.203125 72.90625 \nL 55.078125 72.90625 \nL 55.078125 68.703125 \nL 28.609375 0 \nL 18.3125 0 \nL 43.21875 64.59375 \nL 8.203125 64.59375 \nz\n\" id=\"DejaVuSans-55\"/>\n       </defs>\n       <use xlink:href=\"#DejaVuSans-55\"/>\n       <use x=\"63.623047\" xlink:href=\"#DejaVuSans-48\"/>\n      </g>\n     </g>\n    </g>\n   </g>\n   <g id=\"line2d_14\">\n    <path clip-path=\"url(#pc27bbf26a0)\" d=\"M 42.143182 110.02546 \nL 43.466502 152.520983 \nL 44.789822 171.438346 \nL 46.113142 183.775756 \nL 47.436462 190.904037 \nL 48.759783 193.371519 \nL 50.083103 198.580648 \nL 51.406423 199.677307 \nL 52.729743 201.322295 \nL 54.053063 198.854813 \nL 55.376383 192.549025 \nL 56.699704 181.856603 \nL 58.023024 180.48578 \nL 59.346344 172.26084 \nL 60.669664 174.728322 \nL 63.316304 181.582439 \nL 64.639625 192.000696 \nL 65.962945 199.403142 \nL 67.286265 197.209825 \nL 68.609585 199.677307 \nL 69.932905 204.612271 \nL 71.256225 204.063941 \nL 72.579545 202.693118 \nL 73.902866 202.418953 \nL 75.226186 203.515612 \nL 76.549506 202.144789 \nL 77.872826 201.04813 \nL 79.196146 200.773965 \nL 80.519466 206.257259 \nL 81.842787 205.70893 \nL 83.166107 205.983094 \nL 84.489427 207.628082 \nL 85.812747 203.789777 \nL 87.136067 204.886436 \nL 88.459387 204.612271 \nL 89.782708 204.063941 \nL 91.106028 204.063941 \nL 92.429348 205.1606 \nL 93.752668 209.547235 \nL 95.075988 207.628082 \nL 96.399308 206.531424 \nL 97.722628 206.805588 \nL 99.045949 203.789777 \nL 100.369269 203.515612 \nL 101.692589 200.773965 \nL 103.015909 196.93566 \nL 104.339229 186.791567 \nL 105.662549 165.955052 \nL 106.98587 134.151951 \nL 108.30919 71.094076 \nL 109.63251 21.196106 \nL 110.95583 20.373612 \nL 112.27915 28.872717 \nL 113.60247 54.644196 \nL 114.925791 98.510543 \nL 116.249111 121.266211 \nL 117.572431 131.136139 \nL 118.895751 133.877786 \nL 120.219071 166.503382 \nL 122.865711 185.969073 \nL 125.512352 196.113166 \nL 126.835672 198.306483 \nL 128.158992 201.04813 \nL 129.482312 199.403142 \nL 130.805632 202.144789 \nL 132.128953 197.209825 \nL 133.452273 201.04813 \nL 136.098913 201.596459 \nL 137.422233 202.693118 \nL 138.745553 202.693118 \nL 141.392194 205.434765 \nL 142.715514 206.257259 \nL 144.038834 206.805588 \nL 145.362154 205.70893 \nL 146.685474 206.531424 \nL 148.008794 203.789777 \nL 149.332115 205.70893 \nL 150.655435 205.70893 \nL 151.978755 210.643894 \nL 153.302075 209.27307 \nL 154.625395 207.079753 \nL 155.948715 207.902247 \nL 158.595356 206.257259 \nL 159.918676 205.983094 \nL 161.241996 207.353918 \nL 162.565316 208.450576 \nL 163.888636 207.902247 \nL 165.211957 207.628082 \nL 166.535277 204.612271 \nL 167.858597 202.418953 \nL 169.181917 196.661495 \nL 170.505237 190.355708 \nL 171.828557 181.856603 \nL 173.151877 165.406723 \nL 175.798518 84.528145 \nL 177.121838 20.921942 \nL 178.445158 17.083636 \nL 181.091798 125.92701 \nL 182.415119 154.988466 \nL 183.738439 176.099145 \nL 185.061759 187.065732 \nL 186.385079 190.081543 \nL 187.708399 196.113166 \nL 189.031719 194.468178 \nL 190.35504 195.290672 \nL 191.67836 193.097355 \nL 193.00168 184.872415 \nL 194.325 162.390912 \nL 195.64832 143.473549 \nL 196.97164 129.765316 \nL 198.29496 102.623013 \nL 199.618281 96.865555 \nL 200.941601 115.782918 \nL 202.264921 152.520983 \nL 203.588241 176.647474 \nL 204.911561 187.065732 \nL 206.234881 198.854813 \nL 207.558202 202.967283 \nL 210.204842 205.1606 \nL 212.851482 206.805588 \nL 214.174802 205.1606 \nL 215.498123 206.805588 \nL 216.821443 205.983094 \nL 218.144763 206.257259 \nL 219.468083 207.079753 \nL 220.791403 208.998906 \nL 222.114723 210.095564 \nL 223.438043 208.998906 \nL 224.761364 208.450576 \nL 226.084684 208.724741 \nL 227.408004 208.176412 \nL 231.377964 207.353918 \nL 232.701285 206.531424 \nL 234.024605 205.434765 \nL 235.347925 205.70893 \nL 237.994565 198.854813 \nL 239.317885 195.564837 \nL 240.641206 191.452367 \nL 241.964526 183.227427 \nL 243.287846 164.584229 \nL 245.934486 114.412094 \nL 247.257806 81.512334 \nL 248.581126 83.431487 \nL 249.904447 86.995627 \nL 251.227767 101.800519 \nL 252.551087 105.91299 \nL 253.874407 141.280232 \nL 255.197727 173.083334 \nL 256.521047 186.243238 \nL 257.844368 194.742343 \nL 259.167688 200.773965 \nL 260.491008 207.353918 \nL 261.814328 210.095564 \nL 263.137648 209.27307 \nL 264.460968 210.369729 \nL 265.784289 211.192223 \nL 267.107609 210.643894 \nL 268.430929 211.740552 \nL 269.754249 211.466388 \nL 271.077569 213.38554 \nL 272.400889 212.288882 \nL 273.724209 211.740552 \nL 275.04753 212.014717 \nL 276.37085 211.466388 \nL 277.69417 211.466388 \nL 279.01749 212.563046 \nL 280.34081 212.563046 \nL 281.66413 213.38554 \nL 284.310771 212.837211 \nL 285.634091 213.111376 \nL 286.957411 211.740552 \nL 288.280731 213.111376 \nL 289.604051 212.288882 \nL 290.927372 213.111376 \nL 292.250692 212.288882 \nL 293.574012 212.563046 \nL 296.220652 214.208034 \nL 297.543972 213.93387 \nL 298.867292 214.482199 \nL 300.190613 214.208034 \nL 301.513933 214.756364 \nL 302.837253 214.756364 \nL 304.160573 213.38554 \nL 305.483893 212.837211 \nL 306.807213 209.547235 \nL 308.130534 208.998906 \nL 309.453854 209.27307 \nL 310.777174 210.918058 \nL 312.100494 210.369729 \nL 314.747134 210.369729 \nL 316.070455 211.192223 \nL 317.393775 211.466388 \nL 318.717095 211.466388 \nL 320.040415 210.918058 \nL 321.363735 211.740552 \nL 322.687055 212.837211 \nL 325.333696 212.837211 \nL 326.657016 212.563046 \nL 327.980336 214.756364 \nL 329.303656 212.837211 \nL 330.626976 212.014717 \nL 331.950296 212.563046 \nL 333.273617 212.014717 \nL 334.596937 211.192223 \nL 335.920257 211.740552 \nL 337.243577 211.740552 \nL 338.566897 212.563046 \nL 339.890217 213.111376 \nL 341.213538 212.288882 \nL 342.536858 211.740552 \nL 343.860178 213.38554 \nL 346.506818 212.837211 \nL 346.506818 212.837211 \n\" style=\"fill:none;stroke:#1f77b4;stroke-linecap:square;stroke-width:1.5;\"/>\n   </g>\n   <g id=\"patch_3\">\n    <path d=\"M 26.925 224.64 \nL 26.925 7.2 \n\" style=\"fill:none;stroke:#000000;stroke-linecap:square;stroke-linejoin:miter;stroke-width:0.8;\"/>\n   </g>\n   <g id=\"patch_4\">\n    <path d=\"M 361.725 224.64 \nL 361.725 7.2 \n\" style=\"fill:none;stroke:#000000;stroke-linecap:square;stroke-linejoin:miter;stroke-width:0.8;\"/>\n   </g>\n   <g id=\"patch_5\">\n    <path d=\"M 26.925 224.64 \nL 361.725 224.64 \n\" style=\"fill:none;stroke:#000000;stroke-linecap:square;stroke-linejoin:miter;stroke-width:0.8;\"/>\n   </g>\n   <g id=\"patch_6\">\n    <path d=\"M 26.925 7.2 \nL 361.725 7.2 \n\" style=\"fill:none;stroke:#000000;stroke-linecap:square;stroke-linejoin:miter;stroke-width:0.8;\"/>\n   </g>\n  </g>\n </g>\n <defs>\n  <clipPath id=\"pc27bbf26a0\">\n   <rect height=\"217.44\" width=\"334.8\" x=\"26.925\" y=\"7.2\"/>\n  </clipPath>\n </defs>\n</svg>\n",
      "image/png": "[encoded data removed]"
     },
     "metadata": {
      "needs_background": "light"
     }
    }
   ],
   "source": [
    "flu_rate['ratio'].plot()"
   ]
  },
  {
   "cell_type": "code",
   "execution_count": 45,
   "metadata": {},
   "outputs": [
    {
     "output_type": "execute_result",
     "data": {
      "text/plain": [
       "<AxesSubplot:>"
      ]
     },
     "metadata": {},
     "execution_count": 45
    },
    {
     "output_type": "display_data",
     "data": {
      "text/plain": "<Figure size 432x288 with 1 Axes>",
      "image/svg+xml": "<?xml version=\"1.0\" encoding=\"utf-8\" standalone=\"no\"?>\n<!DOCTYPE svg PUBLIC \"-//W3C//DTD SVG 1.1//EN\"\n  \"http://www.w3.org/Graphics/SVG/1.1/DTD/svg11.dtd\">\n<!-- Created with matplotlib (https://matplotlib.org/) -->\n<svg height=\"248.518125pt\" version=\"1.1\" viewBox=\"0 0 375.2875 248.518125\" width=\"375.2875pt\" xmlns=\"http://www.w3.org/2000/svg\" xmlns:xlink=\"http://www.w3.org/1999/xlink\">\n <metadata>\n  <rdf:RDF xmlns:cc=\"http://creativecommons.org/ns#\" xmlns:dc=\"http://purl.org/dc/elements/1.1/\" xmlns:rdf=\"http://www.w3.org/1999/02/22-rdf-syntax-ns#\">\n   <cc:Work>\n    <dc:type rdf:resource=\"http://purl.org/dc/dcmitype/StillImage\"/>\n    <dc:date>2021-06-15T04:28:25.201005</dc:date>\n    <dc:format>image/svg+xml</dc:format>\n    <dc:creator>\n     <cc:Agent>\n      <dc:title>Matplotlib v3.3.4, https://matplotlib.org/</dc:title>\n     </cc:Agent>\n    </dc:creator>\n   </cc:Work>\n  </rdf:RDF>\n </metadata>\n <defs>\n  <style type=\"text/css\">*{stroke-linecap:butt;stroke-linejoin:round;}</style>\n </defs>\n <g id=\"figure_1\">\n  <g id=\"patch_1\">\n   <path d=\"M 0 248.518125 \nL 375.2875 248.518125 \nL 375.2875 0 \nL 0 0 \nz\n\" style=\"fill:none;\"/>\n  </g>\n  <g id=\"axes_1\">\n   <g id=\"patch_2\">\n    <path d=\"M 33.2875 224.64 \nL 368.0875 224.64 \nL 368.0875 7.2 \nL 33.2875 7.2 \nz\n\" style=\"fill:#ffffff;\"/>\n   </g>\n   <g id=\"matplotlib.axis_1\">\n    <g id=\"xtick_1\">\n     <g id=\"line2d_1\">\n      <defs>\n       <path d=\"M 0 0 \nL 0 3.5 \n\" id=\"m910617b9be\" style=\"stroke:#000000;stroke-width:0.8;\"/>\n      </defs>\n      <g>\n       <use style=\"stroke:#000000;stroke-width:0.8;\" x=\"48.505682\" xlink:href=\"#m910617b9be\" y=\"224.64\"/>\n      </g>\n     </g>\n     <g id=\"text_1\">\n      <!-- 0 -->\n      <g transform=\"translate(45.324432 239.238437)scale(0.1 -0.1)\">\n       <defs>\n        <path d=\"M 31.78125 66.40625 \nQ 24.171875 66.40625 20.328125 58.90625 \nQ 16.5 51.421875 16.5 36.375 \nQ 16.5 21.390625 20.328125 13.890625 \nQ 24.171875 6.390625 31.78125 6.390625 \nQ 39.453125 6.390625 43.28125 13.890625 \nQ 47.125 21.390625 47.125 36.375 \nQ 47.125 51.421875 43.28125 58.90625 \nQ 39.453125 66.40625 31.78125 66.40625 \nz\nM 31.78125 74.21875 \nQ 44.046875 74.21875 50.515625 64.515625 \nQ 56.984375 54.828125 56.984375 36.375 \nQ 56.984375 17.96875 50.515625 8.265625 \nQ 44.046875 -1.421875 31.78125 -1.421875 \nQ 19.53125 -1.421875 13.0625 8.265625 \nQ 6.59375 17.96875 6.59375 36.375 \nQ 6.59375 54.828125 13.0625 64.515625 \nQ 19.53125 74.21875 31.78125 74.21875 \nz\n\" id=\"DejaVuSans-48\"/>\n       </defs>\n       <use xlink:href=\"#DejaVuSans-48\"/>\n      </g>\n     </g>\n    </g>\n    <g id=\"xtick_2\">\n     <g id=\"line2d_2\">\n      <g>\n       <use style=\"stroke:#000000;stroke-width:0.8;\" x=\"114.67169\" xlink:href=\"#m910617b9be\" y=\"224.64\"/>\n      </g>\n     </g>\n     <g id=\"text_2\">\n      <!-- 50 -->\n      <g transform=\"translate(108.30919 239.238437)scale(0.1 -0.1)\">\n       <defs>\n        <path d=\"M 10.796875 72.90625 \nL 49.515625 72.90625 \nL 49.515625 64.59375 \nL 19.828125 64.59375 \nL 19.828125 46.734375 \nQ 21.96875 47.46875 24.109375 47.828125 \nQ 26.265625 48.1875 28.421875 48.1875 \nQ 40.625 48.1875 47.75 41.5 \nQ 54.890625 34.8125 54.890625 23.390625 \nQ 54.890625 11.625 47.5625 5.09375 \nQ 40.234375 -1.421875 26.90625 -1.421875 \nQ 22.3125 -1.421875 17.546875 -0.640625 \nQ 12.796875 0.140625 7.71875 1.703125 \nL 7.71875 11.625 \nQ 12.109375 9.234375 16.796875 8.0625 \nQ 21.484375 6.890625 26.703125 6.890625 \nQ 35.15625 6.890625 40.078125 11.328125 \nQ 45.015625 15.765625 45.015625 23.390625 \nQ 45.015625 31 40.078125 35.4375 \nQ 35.15625 39.890625 26.703125 39.890625 \nQ 22.75 39.890625 18.8125 39.015625 \nQ 14.890625 38.140625 10.796875 36.28125 \nz\n\" id=\"DejaVuSans-53\"/>\n       </defs>\n       <use xlink:href=\"#DejaVuSans-53\"/>\n       <use x=\"63.623047\" xlink:href=\"#DejaVuSans-48\"/>\n      </g>\n     </g>\n    </g>\n    <g id=\"xtick_3\">\n     <g id=\"line2d_3\">\n      <g>\n       <use style=\"stroke:#000000;stroke-width:0.8;\" x=\"180.837698\" xlink:href=\"#m910617b9be\" y=\"224.64\"/>\n      </g>\n     </g>\n     <g id=\"text_3\">\n      <!-- 100 -->\n      <g transform=\"translate(171.293948 239.238437)scale(0.1 -0.1)\">\n       <defs>\n        <path d=\"M 12.40625 8.296875 \nL 28.515625 8.296875 \nL 28.515625 63.921875 \nL 10.984375 60.40625 \nL 10.984375 69.390625 \nL 28.421875 72.90625 \nL 38.28125 72.90625 \nL 38.28125 8.296875 \nL 54.390625 8.296875 \nL 54.390625 0 \nL 12.40625 0 \nz\n\" id=\"DejaVuSans-49\"/>\n       </defs>\n       <use xlink:href=\"#DejaVuSans-49\"/>\n       <use x=\"63.623047\" xlink:href=\"#DejaVuSans-48\"/>\n       <use x=\"127.246094\" xlink:href=\"#DejaVuSans-48\"/>\n      </g>\n     </g>\n    </g>\n    <g id=\"xtick_4\">\n     <g id=\"line2d_4\">\n      <g>\n       <use style=\"stroke:#000000;stroke-width:0.8;\" x=\"247.003706\" xlink:href=\"#m910617b9be\" y=\"224.64\"/>\n      </g>\n     </g>\n     <g id=\"text_4\">\n      <!-- 150 -->\n      <g transform=\"translate(237.459956 239.238437)scale(0.1 -0.1)\">\n       <use xlink:href=\"#DejaVuSans-49\"/>\n       <use x=\"63.623047\" xlink:href=\"#DejaVuSans-53\"/>\n       <use x=\"127.246094\" xlink:href=\"#DejaVuSans-48\"/>\n      </g>\n     </g>\n    </g>\n    <g id=\"xtick_5\">\n     <g id=\"line2d_5\">\n      <g>\n       <use style=\"stroke:#000000;stroke-width:0.8;\" x=\"313.169713\" xlink:href=\"#m910617b9be\" y=\"224.64\"/>\n      </g>\n     </g>\n     <g id=\"text_5\">\n      <!-- 200 -->\n      <g transform=\"translate(303.625963 239.238437)scale(0.1 -0.1)\">\n       <defs>\n        <path d=\"M 19.1875 8.296875 \nL 53.609375 8.296875 \nL 53.609375 0 \nL 7.328125 0 \nL 7.328125 8.296875 \nQ 12.9375 14.109375 22.625 23.890625 \nQ 32.328125 33.6875 34.8125 36.53125 \nQ 39.546875 41.84375 41.421875 45.53125 \nQ 43.3125 49.21875 43.3125 52.78125 \nQ 43.3125 58.59375 39.234375 62.25 \nQ 35.15625 65.921875 28.609375 65.921875 \nQ 23.96875 65.921875 18.8125 64.3125 \nQ 13.671875 62.703125 7.8125 59.421875 \nL 7.8125 69.390625 \nQ 13.765625 71.78125 18.9375 73 \nQ 24.125 74.21875 28.421875 74.21875 \nQ 39.75 74.21875 46.484375 68.546875 \nQ 53.21875 62.890625 53.21875 53.421875 \nQ 53.21875 48.921875 51.53125 44.890625 \nQ 49.859375 40.875 45.40625 35.40625 \nQ 44.1875 33.984375 37.640625 27.21875 \nQ 31.109375 20.453125 19.1875 8.296875 \nz\n\" id=\"DejaVuSans-50\"/>\n       </defs>\n       <use xlink:href=\"#DejaVuSans-50\"/>\n       <use x=\"63.623047\" xlink:href=\"#DejaVuSans-48\"/>\n       <use x=\"127.246094\" xlink:href=\"#DejaVuSans-48\"/>\n      </g>\n     </g>\n    </g>\n   </g>\n   <g id=\"matplotlib.axis_2\">\n    <g id=\"ytick_1\">\n     <g id=\"line2d_6\">\n      <defs>\n       <path d=\"M 0 0 \nL -3.5 0 \n\" id=\"m34506a4c28\" style=\"stroke:#000000;stroke-width:0.8;\"/>\n      </defs>\n      <g>\n       <use style=\"stroke:#000000;stroke-width:0.8;\" x=\"33.2875\" xlink:href=\"#m34506a4c28\" y=\"209.258168\"/>\n      </g>\n     </g>\n     <g id=\"text_6\">\n      <!-- 30 -->\n      <g transform=\"translate(13.5625 213.057387)scale(0.1 -0.1)\">\n       <defs>\n        <path d=\"M 40.578125 39.3125 \nQ 47.65625 37.796875 51.625 33 \nQ 55.609375 28.21875 55.609375 21.1875 \nQ 55.609375 10.40625 48.1875 4.484375 \nQ 40.765625 -1.421875 27.09375 -1.421875 \nQ 22.515625 -1.421875 17.65625 -0.515625 \nQ 12.796875 0.390625 7.625 2.203125 \nL 7.625 11.71875 \nQ 11.71875 9.328125 16.59375 8.109375 \nQ 21.484375 6.890625 26.8125 6.890625 \nQ 36.078125 6.890625 40.9375 10.546875 \nQ 45.796875 14.203125 45.796875 21.1875 \nQ 45.796875 27.640625 41.28125 31.265625 \nQ 36.765625 34.90625 28.71875 34.90625 \nL 20.21875 34.90625 \nL 20.21875 43.015625 \nL 29.109375 43.015625 \nQ 36.375 43.015625 40.234375 45.921875 \nQ 44.09375 48.828125 44.09375 54.296875 \nQ 44.09375 59.90625 40.109375 62.90625 \nQ 36.140625 65.921875 28.71875 65.921875 \nQ 24.65625 65.921875 20.015625 65.03125 \nQ 15.375 64.15625 9.8125 62.3125 \nL 9.8125 71.09375 \nQ 15.4375 72.65625 20.34375 73.4375 \nQ 25.25 74.21875 29.59375 74.21875 \nQ 40.828125 74.21875 47.359375 69.109375 \nQ 53.90625 64.015625 53.90625 55.328125 \nQ 53.90625 49.265625 50.4375 45.09375 \nQ 46.96875 40.921875 40.578125 39.3125 \nz\n\" id=\"DejaVuSans-51\"/>\n       </defs>\n       <use xlink:href=\"#DejaVuSans-51\"/>\n       <use x=\"63.623047\" xlink:href=\"#DejaVuSans-48\"/>\n      </g>\n     </g>\n    </g>\n    <g id=\"ytick_2\">\n     <g id=\"line2d_7\">\n      <g>\n       <use style=\"stroke:#000000;stroke-width:0.8;\" x=\"33.2875\" xlink:href=\"#m34506a4c28\" y=\"181.804663\"/>\n      </g>\n     </g>\n     <g id=\"text_7\">\n      <!-- 40 -->\n      <g transform=\"translate(13.5625 185.603882)scale(0.1 -0.1)\">\n       <defs>\n        <path d=\"M 37.796875 64.3125 \nL 12.890625 25.390625 \nL 37.796875 25.390625 \nz\nM 35.203125 72.90625 \nL 47.609375 72.90625 \nL 47.609375 25.390625 \nL 58.015625 25.390625 \nL 58.015625 17.1875 \nL 47.609375 17.1875 \nL 47.609375 0 \nL 37.796875 0 \nL 37.796875 17.1875 \nL 4.890625 17.1875 \nL 4.890625 26.703125 \nz\n\" id=\"DejaVuSans-52\"/>\n       </defs>\n       <use xlink:href=\"#DejaVuSans-52\"/>\n       <use x=\"63.623047\" xlink:href=\"#DejaVuSans-48\"/>\n      </g>\n     </g>\n    </g>\n    <g id=\"ytick_3\">\n     <g id=\"line2d_8\">\n      <g>\n       <use style=\"stroke:#000000;stroke-width:0.8;\" x=\"33.2875\" xlink:href=\"#m34506a4c28\" y=\"154.351159\"/>\n      </g>\n     </g>\n     <g id=\"text_8\">\n      <!-- 50 -->\n      <g transform=\"translate(13.5625 158.150378)scale(0.1 -0.1)\">\n       <use xlink:href=\"#DejaVuSans-53\"/>\n       <use x=\"63.623047\" xlink:href=\"#DejaVuSans-48\"/>\n      </g>\n     </g>\n    </g>\n    <g id=\"ytick_4\">\n     <g id=\"line2d_9\">\n      <g>\n       <use style=\"stroke:#000000;stroke-width:0.8;\" x=\"33.2875\" xlink:href=\"#m34506a4c28\" y=\"126.897654\"/>\n      </g>\n     </g>\n     <g id=\"text_9\">\n      <!-- 60 -->\n      <g transform=\"translate(13.5625 130.696873)scale(0.1 -0.1)\">\n       <defs>\n        <path d=\"M 33.015625 40.375 \nQ 26.375 40.375 22.484375 35.828125 \nQ 18.609375 31.296875 18.609375 23.390625 \nQ 18.609375 15.53125 22.484375 10.953125 \nQ 26.375 6.390625 33.015625 6.390625 \nQ 39.65625 6.390625 43.53125 10.953125 \nQ 47.40625 15.53125 47.40625 23.390625 \nQ 47.40625 31.296875 43.53125 35.828125 \nQ 39.65625 40.375 33.015625 40.375 \nz\nM 52.59375 71.296875 \nL 52.59375 62.3125 \nQ 48.875 64.0625 45.09375 64.984375 \nQ 41.3125 65.921875 37.59375 65.921875 \nQ 27.828125 65.921875 22.671875 59.328125 \nQ 17.53125 52.734375 16.796875 39.40625 \nQ 19.671875 43.65625 24.015625 45.921875 \nQ 28.375 48.1875 33.59375 48.1875 \nQ 44.578125 48.1875 50.953125 41.515625 \nQ 57.328125 34.859375 57.328125 23.390625 \nQ 57.328125 12.15625 50.6875 5.359375 \nQ 44.046875 -1.421875 33.015625 -1.421875 \nQ 20.359375 -1.421875 13.671875 8.265625 \nQ 6.984375 17.96875 6.984375 36.375 \nQ 6.984375 53.65625 15.1875 63.9375 \nQ 23.390625 74.21875 37.203125 74.21875 \nQ 40.921875 74.21875 44.703125 73.484375 \nQ 48.484375 72.75 52.59375 71.296875 \nz\n\" id=\"DejaVuSans-54\"/>\n       </defs>\n       <use xlink:href=\"#DejaVuSans-54\"/>\n       <use x=\"63.623047\" xlink:href=\"#DejaVuSans-48\"/>\n      </g>\n     </g>\n    </g>\n    <g id=\"ytick_5\">\n     <g id=\"line2d_10\">\n      <g>\n       <use style=\"stroke:#000000;stroke-width:0.8;\" x=\"33.2875\" xlink:href=\"#m34506a4c28\" y=\"99.44415\"/>\n      </g>\n     </g>\n     <g id=\"text_10\">\n      <!-- 70 -->\n      <g transform=\"translate(13.5625 103.243369)scale(0.1 -0.1)\">\n       <defs>\n        <path d=\"M 8.203125 72.90625 \nL 55.078125 72.90625 \nL 55.078125 68.703125 \nL 28.609375 0 \nL 18.3125 0 \nL 43.21875 64.59375 \nL 8.203125 64.59375 \nz\n\" id=\"DejaVuSans-55\"/>\n       </defs>\n       <use xlink:href=\"#DejaVuSans-55\"/>\n       <use x=\"63.623047\" xlink:href=\"#DejaVuSans-48\"/>\n      </g>\n     </g>\n    </g>\n    <g id=\"ytick_6\">\n     <g id=\"line2d_11\">\n      <g>\n       <use style=\"stroke:#000000;stroke-width:0.8;\" x=\"33.2875\" xlink:href=\"#m34506a4c28\" y=\"71.990645\"/>\n      </g>\n     </g>\n     <g id=\"text_11\">\n      <!-- 80 -->\n      <g transform=\"translate(13.5625 75.789864)scale(0.1 -0.1)\">\n       <defs>\n        <path d=\"M 31.78125 34.625 \nQ 24.75 34.625 20.71875 30.859375 \nQ 16.703125 27.09375 16.703125 20.515625 \nQ 16.703125 13.921875 20.71875 10.15625 \nQ 24.75 6.390625 31.78125 6.390625 \nQ 38.8125 6.390625 42.859375 10.171875 \nQ 46.921875 13.96875 46.921875 20.515625 \nQ 46.921875 27.09375 42.890625 30.859375 \nQ 38.875 34.625 31.78125 34.625 \nz\nM 21.921875 38.8125 \nQ 15.578125 40.375 12.03125 44.71875 \nQ 8.5 49.078125 8.5 55.328125 \nQ 8.5 64.0625 14.71875 69.140625 \nQ 20.953125 74.21875 31.78125 74.21875 \nQ 42.671875 74.21875 48.875 69.140625 \nQ 55.078125 64.0625 55.078125 55.328125 \nQ 55.078125 49.078125 51.53125 44.71875 \nQ 48 40.375 41.703125 38.8125 \nQ 48.828125 37.15625 52.796875 32.3125 \nQ 56.78125 27.484375 56.78125 20.515625 \nQ 56.78125 9.90625 50.3125 4.234375 \nQ 43.84375 -1.421875 31.78125 -1.421875 \nQ 19.734375 -1.421875 13.25 4.234375 \nQ 6.78125 9.90625 6.78125 20.515625 \nQ 6.78125 27.484375 10.78125 32.3125 \nQ 14.796875 37.15625 21.921875 38.8125 \nz\nM 18.3125 54.390625 \nQ 18.3125 48.734375 21.84375 45.5625 \nQ 25.390625 42.390625 31.78125 42.390625 \nQ 38.140625 42.390625 41.71875 45.5625 \nQ 45.3125 48.734375 45.3125 54.390625 \nQ 45.3125 60.0625 41.71875 63.234375 \nQ 38.140625 66.40625 31.78125 66.40625 \nQ 25.390625 66.40625 21.84375 63.234375 \nQ 18.3125 60.0625 18.3125 54.390625 \nz\n\" id=\"DejaVuSans-56\"/>\n       </defs>\n       <use xlink:href=\"#DejaVuSans-56\"/>\n       <use x=\"63.623047\" xlink:href=\"#DejaVuSans-48\"/>\n      </g>\n     </g>\n    </g>\n    <g id=\"ytick_7\">\n     <g id=\"line2d_12\">\n      <g>\n       <use style=\"stroke:#000000;stroke-width:0.8;\" x=\"33.2875\" xlink:href=\"#m34506a4c28\" y=\"44.537141\"/>\n      </g>\n     </g>\n     <g id=\"text_12\">\n      <!-- 90 -->\n      <g transform=\"translate(13.5625 48.33636)scale(0.1 -0.1)\">\n       <defs>\n        <path d=\"M 10.984375 1.515625 \nL 10.984375 10.5 \nQ 14.703125 8.734375 18.5 7.8125 \nQ 22.3125 6.890625 25.984375 6.890625 \nQ 35.75 6.890625 40.890625 13.453125 \nQ 46.046875 20.015625 46.78125 33.40625 \nQ 43.953125 29.203125 39.59375 26.953125 \nQ 35.25 24.703125 29.984375 24.703125 \nQ 19.046875 24.703125 12.671875 31.3125 \nQ 6.296875 37.9375 6.296875 49.421875 \nQ 6.296875 60.640625 12.9375 67.421875 \nQ 19.578125 74.21875 30.609375 74.21875 \nQ 43.265625 74.21875 49.921875 64.515625 \nQ 56.59375 54.828125 56.59375 36.375 \nQ 56.59375 19.140625 48.40625 8.859375 \nQ 40.234375 -1.421875 26.421875 -1.421875 \nQ 22.703125 -1.421875 18.890625 -0.6875 \nQ 15.09375 0.046875 10.984375 1.515625 \nz\nM 30.609375 32.421875 \nQ 37.25 32.421875 41.125 36.953125 \nQ 45.015625 41.5 45.015625 49.421875 \nQ 45.015625 57.28125 41.125 61.84375 \nQ 37.25 66.40625 30.609375 66.40625 \nQ 23.96875 66.40625 20.09375 61.84375 \nQ 16.21875 57.28125 16.21875 49.421875 \nQ 16.21875 41.5 20.09375 36.953125 \nQ 23.96875 32.421875 30.609375 32.421875 \nz\n\" id=\"DejaVuSans-57\"/>\n       </defs>\n       <use xlink:href=\"#DejaVuSans-57\"/>\n       <use x=\"63.623047\" xlink:href=\"#DejaVuSans-48\"/>\n      </g>\n     </g>\n    </g>\n    <g id=\"ytick_8\">\n     <g id=\"line2d_13\">\n      <g>\n       <use style=\"stroke:#000000;stroke-width:0.8;\" x=\"33.2875\" xlink:href=\"#m34506a4c28\" y=\"17.083636\"/>\n      </g>\n     </g>\n     <g id=\"text_13\">\n      <!-- 100 -->\n      <g transform=\"translate(7.2 20.882855)scale(0.1 -0.1)\">\n       <use xlink:href=\"#DejaVuSans-49\"/>\n       <use x=\"63.623047\" xlink:href=\"#DejaVuSans-48\"/>\n       <use x=\"127.246094\" xlink:href=\"#DejaVuSans-48\"/>\n      </g>\n     </g>\n    </g>\n   </g>\n   <g id=\"line2d_14\">\n    <path clip-path=\"url(#p7616a91d08)\" d=\"M 48.505682 109.094029 \nL 49.829002 126.860263 \nL 51.152322 133.218714 \nL 52.475642 162.39273 \nL 53.798962 143.504417 \nL 55.122283 119.379759 \nL 56.445603 148.927801 \nL 59.092243 152.481054 \nL 60.415563 123.307011 \nL 61.738883 116.761573 \nL 63.062204 120.688825 \nL 64.385524 132.844687 \nL 65.708844 118.818719 \nL 67.032164 113.021308 \nL 68.355484 132.283648 \nL 69.678804 126.299223 \nL 71.002125 170.4343 \nL 72.325445 124.616103 \nL 73.648765 115.078454 \nL 74.972085 107.97195 \nL 76.295405 113.769361 \nL 77.618725 73.374549 \nL 78.942045 90.579743 \nL 80.265366 125.55117 \nL 81.588686 145.000523 \nL 82.912006 139.016098 \nL 84.235326 113.395335 \nL 85.558646 122.745971 \nL 86.881966 139.203111 \nL 88.205287 152.29404 \nL 89.528607 137.519992 \nL 92.175247 121.623891 \nL 93.498567 116.57456 \nL 94.821887 102.361579 \nL 96.145208 108.532989 \nL 97.468528 113.395335 \nL 98.791848 134.527807 \nL 100.115168 180.720003 \nL 101.438488 120.314798 \nL 102.761808 109.281043 \nL 104.085128 106.662857 \nL 105.408449 88.896623 \nL 106.731769 58.787541 \nL 108.055089 96.938194 \nL 109.378409 30.922619 \nL 110.701729 52.616103 \nL 112.025049 58.600528 \nL 113.34837 113.956374 \nL 114.67169 115.078454 \nL 115.99501 130.787541 \nL 117.31833 126.11221 \nL 118.64165 120.688825 \nL 119.96497 130.039488 \nL 121.288291 122.558957 \nL 122.611611 124.42909 \nL 123.934931 119.379759 \nL 125.258251 157.904411 \nL 126.581571 121.062851 \nL 127.904891 139.390125 \nL 129.228211 125.925196 \nL 130.551532 109.281043 \nL 131.874852 87.774544 \nL 133.198172 91.140783 \nL 134.521492 104.231684 \nL 135.844812 86.278437 \nL 137.168132 117.509627 \nL 138.491453 84.034306 \nL 139.814773 75.618708 \nL 141.138093 109.468056 \nL 142.461413 96.938194 \nL 143.784733 105.540777 \nL 145.108053 87.961557 \nL 146.431374 97.125207 \nL 147.754694 125.738183 \nL 149.078014 113.956374 \nL 150.401334 149.114815 \nL 151.724654 142.56935 \nL 153.047974 130.039488 \nL 154.371294 122.371944 \nL 155.694615 165.758969 \nL 157.017935 156.595318 \nL 158.341255 133.779754 \nL 159.664575 118.818719 \nL 160.987895 127.047276 \nL 162.311215 123.86805 \nL 163.634536 125.177143 \nL 164.957856 105.353764 \nL 166.281176 134.15378 \nL 167.604496 175.296618 \nL 168.927816 132.096634 \nL 170.251136 126.673249 \nL 171.574457 108.720003 \nL 172.897777 124.616103 \nL 174.221097 110.964162 \nL 175.544417 104.044671 \nL 176.867737 99.369367 \nL 178.191057 117.509627 \nL 179.514377 102.548592 \nL 180.837698 110.777149 \nL 182.161018 135.27586 \nL 183.484338 129.478449 \nL 184.807658 143.878443 \nL 186.130978 159.774544 \nL 187.454298 141.447271 \nL 188.777619 135.462873 \nL 190.100939 143.504417 \nL 191.424259 146.496629 \nL 192.747579 164.636889 \nL 194.070899 138.642071 \nL 195.394219 129.104422 \nL 196.71754 136.958979 \nL 198.04086 125.738183 \nL 199.36418 117.883653 \nL 200.6875 102.361579 \nL 202.01082 101.052486 \nL 203.33414 132.470661 \nL 204.65746 113.021308 \nL 205.980781 123.119997 \nL 207.304101 150.797934 \nL 208.627421 137.332979 \nL 209.950741 119.940799 \nL 211.274061 104.044671 \nL 212.597381 106.28883 \nL 213.920702 124.055064 \nL 215.244022 134.901833 \nL 216.567342 121.062851 \nL 217.890662 124.055064 \nL 219.213982 151.733001 \nL 220.537302 116.387547 \nL 221.860623 119.753786 \nL 223.183943 128.917409 \nL 224.507263 156.969345 \nL 225.830583 143.878443 \nL 227.153903 143.13039 \nL 228.477223 164.823902 \nL 229.800543 145.748576 \nL 231.123864 144.626496 \nL 232.447184 124.055064 \nL 233.770504 171.556353 \nL 235.093824 121.436878 \nL 236.417144 100.11742 \nL 237.740464 144.626496 \nL 239.063785 109.842082 \nL 240.387105 85.717398 \nL 241.710425 27.55638 \nL 243.033745 47.753786 \nL 244.357065 86.839477 \nL 245.680385 77.488841 \nL 247.003706 82.351186 \nL 248.327026 81.97716 \nL 250.973666 137.707005 \nL 252.296986 136.39794 \nL 253.620306 142.382337 \nL 254.943626 152.481054 \nL 256.266947 145.000523 \nL 257.590267 142.756363 \nL 258.913587 174.174538 \nL 260.236907 185.395335 \nL 261.560227 157.156358 \nL 262.883547 154.912199 \nL 264.206868 148.366762 \nL 265.530188 186.891441 \nL 266.853508 173.239472 \nL 268.176828 175.857658 \nL 269.500148 163.327796 \nL 270.823468 160.335584 \nL 272.146789 153.790147 \nL 273.470109 170.4343 \nL 274.793429 167.068061 \nL 276.116749 158.465451 \nL 277.440069 157.904411 \nL 278.763389 159.587531 \nL 280.086709 143.13039 \nL 282.73335 125.364157 \nL 284.05667 156.782331 \nL 285.37999 149.488841 \nL 286.70331 132.283648 \nL 288.02663 118.818719 \nL 290.673271 147.992735 \nL 291.996591 152.668067 \nL 293.319911 151.545987 \nL 294.643231 171.369367 \nL 295.966551 165.384942 \nL 297.289872 145.935589 \nL 298.613192 176.979737 \nL 299.936512 156.034278 \nL 301.259832 159.213504 \nL 302.583152 127.982342 \nL 303.906472 129.291435 \nL 305.229792 136.584953 \nL 306.553113 194.184931 \nL 307.876433 159.774544 \nL 309.199753 158.465451 \nL 310.523073 150.610921 \nL 311.846393 151.733001 \nL 313.169713 139.390125 \nL 314.493034 122.184931 \nL 315.816354 119.005733 \nL 317.139674 141.260257 \nL 318.462994 142.756363 \nL 319.786314 124.803117 \nL 321.109634 163.701823 \nL 322.432955 147.618709 \nL 323.756275 172.304406 \nL 325.079595 163.701823 \nL 326.402915 167.629101 \nL 327.726235 185.956375 \nL 329.049555 185.208321 \nL 330.372875 184.086242 \nL 331.696196 214.756364 \nL 333.019516 183.338189 \nL 334.342836 182.216109 \nL 335.666156 17.083636 \nL 336.989476 32.792751 \nL 338.312796 109.842082 \nL 339.636117 114.891441 \nL 340.959437 137.707005 \nL 342.282757 140.699217 \nL 343.606077 161.83169 \nL 344.929397 160.14857 \nL 346.252717 177.540777 \nL 347.576038 160.896623 \nL 348.899358 85.530412 \nL 350.222678 125.364157 \nL 351.545998 122.932984 \nL 352.869318 132.844687 \nL 352.869318 132.844687 \n\" style=\"fill:none;stroke:#1f77b4;stroke-linecap:square;stroke-width:1.5;\"/>\n   </g>\n   <g id=\"patch_3\">\n    <path d=\"M 33.2875 224.64 \nL 33.2875 7.2 \n\" style=\"fill:none;stroke:#000000;stroke-linecap:square;stroke-linejoin:miter;stroke-width:0.8;\"/>\n   </g>\n   <g id=\"patch_4\">\n    <path d=\"M 368.0875 224.64 \nL 368.0875 7.2 \n\" style=\"fill:none;stroke:#000000;stroke-linecap:square;stroke-linejoin:miter;stroke-width:0.8;\"/>\n   </g>\n   <g id=\"patch_5\">\n    <path d=\"M 33.2875 224.64 \nL 368.0875 224.64 \n\" style=\"fill:none;stroke:#000000;stroke-linecap:square;stroke-linejoin:miter;stroke-width:0.8;\"/>\n   </g>\n   <g id=\"patch_6\">\n    <path d=\"M 33.2875 7.2 \nL 368.0875 7.2 \n\" style=\"fill:none;stroke:#000000;stroke-linecap:square;stroke-linejoin:miter;stroke-width:0.8;\"/>\n   </g>\n  </g>\n </g>\n <defs>\n  <clipPath id=\"p7616a91d08\">\n   <rect height=\"217.44\" width=\"334.8\" x=\"33.2875\" y=\"7.2\"/>\n  </clipPath>\n </defs>\n</svg>\n",
      "image/png": "[encoded data removed]"
     },
     "metadata": {
      "needs_background": "light"
     }
    }
   ],
   "source": [
    "word_trends['항암제'].plot()"
   ]
  },
  {
   "cell_type": "code",
   "execution_count": 32,
   "metadata": {},
   "outputs": [
    {
     "output_type": "execute_result",
     "data": {
      "text/plain": [
       "[('몸살', 0.6033543021231151, 0),\n",
       " ('축농증', 0.575092260282384, 1),\n",
       " ('기관지염', 0.5624696466654443, 1),\n",
       " ('수액', 0.5483436337963298, 1),\n",
       " ('코골이', 0.5405218251906332, 0),\n",
       " ('건조증', 0.5120483497405361, 4),\n",
       " ('췌장', 0.5081889226054346, 9),\n",
       " ('자궁암', 0.5075452575310677, 4),\n",
       " ('색맹', 0.5006879786671139, 9),\n",
       " ('부비강염', 0.48776843864631464, 1),\n",
       " ('늑막염', 0.47918694213132956, 0),\n",
       " ('비염', 0.4630464458911876, 12),\n",
       " ('항암제', 0.4594743557960533, 7),\n",
       " ('구감', 0.4580456088311772, 10),\n",
       " ('중이염', 0.44327185941238717, 2),\n",
       " ('콧물', 0.4390768340820629, 1),\n",
       " ('회충', 0.43634889480155997, 6),\n",
       " ('과음', 0.41805983187601703, 1),\n",
       " ('내시경', 0.41691317082463564, 4),\n",
       " ('간암', 0.4123141983034351, 9),\n",
       " ('고혈압', 0.4103273817083101, 5),\n",
       " ('프리온', 0.40675643473581163, 8),\n",
       " ('고통', 0.40617725015555556, 9),\n",
       " ('항경', 0.40457509965932853, 8),\n",
       " ('크룹', 0.4042398783440661, 5),\n",
       " ('앓', 0.40240762436717137, 1),\n",
       " ('독시사이클린', 0.3999556633090733, 10),\n",
       " ('구토', 0.39215045068818694, 0),\n",
       " ('프라이온', 0.3914204833175014, 9),\n",
       " ('귀울림', 0.38845437878300076, 7),\n",
       " ('폐암', 0.3877184279391163, 7),\n",
       " ('분변', 0.3847965929029628, 6),\n",
       " ('고열', 0.384796224450138, 0),\n",
       " ('에이즈', 0.379352851790376, 11),\n",
       " ('비듬', 0.37735698593473427, 0),\n",
       " ('안압', 0.36645741959887, 3),\n",
       " ('탄저균', 0.36481921770089004, 1),\n",
       " ('승모판', 0.3605873567358078, 3),\n",
       " ('패혈성', 0.360506954580648, 10),\n",
       " ('영아', 0.3600816135297474, 9),\n",
       " ('전립선염', 0.35670409896201366, 12),\n",
       " ('창궐', 0.3565234913480986, 8),\n",
       " ('렙토스피라', 0.3542938429303542, 10),\n",
       " ('지방간', 0.35241750491116314, 5),\n",
       " ('균제', 0.34683541724285866, 9),\n",
       " ('안구건조증', 0.3429669345519815, 4),\n",
       " ('천식', 0.3423188511443221, 4),\n",
       " ('항생제', 0.33833547244629486, 2),\n",
       " ('폐결핵', 0.3330598868967954, 2),\n",
       " ('난소암', 0.33000686292255815, 2)]"
      ]
     },
     "metadata": {},
     "execution_count": 32
    }
   ],
   "source": [
    "corr_topn[:50]"
   ]
  },
  {
   "cell_type": "code",
   "execution_count": null,
   "metadata": {},
   "outputs": [],
   "source": []
  },
  {
   "cell_type": "code",
   "execution_count": null,
   "metadata": {},
   "outputs": [],
   "source": []
  },
  {
   "source": [
    "## Extract \"flu-related\" words"
   ],
   "cell_type": "markdown",
   "metadata": {}
  },
  {
   "cell_type": "code",
   "execution_count": 2,
   "metadata": {},
   "outputs": [],
   "source": [
    "from gensim.models import KeyedVectors\n",
    "\n",
    "kv_fname = 'kowiki-neg-300.kv'\n",
    "w2v_kv = KeyedVectors.load(f'./models/{kv_fname}')"
   ]
  },
  {
   "cell_type": "code",
   "execution_count": 4,
   "metadata": {},
   "outputs": [
    {
     "output_type": "execute_result",
     "data": {
      "text/plain": [
       "[('질병', 0.6456781029701233),\n",
       " ('합병증', 0.6416015028953552),\n",
       " ('패혈증', 0.6396576166152954),\n",
       " ('피부병', 0.6389033198356628),\n",
       " ('황달', 0.637260377407074),\n",
       " ('매독', 0.6342878341674805),\n",
       " ('기관지염', 0.6325851678848267),\n",
       " ('폐렴', 0.6323192715644836),\n",
       " ('급성', 0.6281660795211792),\n",
       " ('복통', 0.6278930902481079),\n",
       " ('홍역', 0.6278191804885864),\n",
       " ('대상포진', 0.6273614764213562),\n",
       " ('뎅기열', 0.6261769533157349),\n",
       " ('천식', 0.6254749298095703),\n",
       " ('뇌염', 0.6234469413757324),\n",
       " ('무증상', 0.6224794387817383),\n",
       " ('관절통', 0.6186830997467041),\n",
       " ('골다공증', 0.6164602041244507),\n",
       " ('파킨슨병', 0.615439772605896),\n",
       " ('폐질환', 0.6129343509674072),\n",
       " ('신장염', 0.6128467917442322),\n",
       " ('말라리아', 0.612651526927948),\n",
       " ('발병', 0.6126167178153992),\n",
       " ('심근염', 0.6122466325759888),\n",
       " ('결핵', 0.6121384501457214),\n",
       " ('부작용', 0.6108651161193848),\n",
       " ('뇌전증', 0.6089601516723633),\n",
       " ('알츠하이머병', 0.6067097783088684),\n",
       " ('파상풍', 0.6065411567687988),\n",
       " ('가려움증', 0.6062012314796448)]"
      ]
     },
     "metadata": {},
     "execution_count": 4
    }
   ],
   "source": [
    "w2v_kv.most_similar_cosmul(positive=['독감', '증상'], topn=30)"
   ]
  },
  {
   "cell_type": "code",
   "execution_count": 11,
   "metadata": {},
   "outputs": [
    {
     "output_type": "stream",
     "name": "stderr",
     "text": [
      "100%|██████████| 999/999 [01:32<00:00, 10.76it/s]\n"
     ]
    }
   ],
   "source": [
    "import urllib\n",
    "import json\n",
    "from tqdm import tqdm\n",
    "\n",
    "client_id = 'B4Vmp4Wt5ECl_fNWgIXR'\n",
    "client_secret = 'WnmtyQRoNa'\n",
    "naver_trends_url = 'https://openapi.naver.com/v1/datalab/search'\n",
    "\n",
    "flu_related_words = [w for w, _ in w2v_kv.most_similar_cosmul(positive=['독감', '증상'], topn=1000)]\n",
    "word_trends = {}\n",
    "\n",
    "for word in tqdm(flu_related_words):\n",
    "    try:\n",
    "        body = ('{\"startDate\\\":\"2017-01-02\",\"endDate\":\"2021-06-06\",\"timeUnit\":\"week\",' \n",
    "                + '\"keywordGroups\":[{\"groupName\":\"' + word + '\",\"keywords\":[\\\"' + word + '\\\"]}]}')\n",
    "        request = urllib.request.Request(naver_trends_url)\n",
    "        request.add_header(\"X-Naver-Client-Id\", client_id)\n",
    "        request.add_header(\"X-Naver-Client-Secret\", client_secret)\n",
    "        request.add_header(\"Content-Type\",\"application/json\")\n",
    "        response = urllib.request.urlopen(request, data=body.encode(\"utf-8\"))\n",
    "        rescode = response.getcode()\n",
    "        if rescode==200:\n",
    "            resbody = response.read()\n",
    "            resbody = json.loads(resbody.decode('utf8'))\n",
    "            word_trends[word] = resbody['results'][0]['data']\n",
    "        else:\n",
    "            print(f'request is failed for {word}, error code: {rescode}')\n",
    "    except:\n",
    "        print(f'request is failed for {word}, error code: {rescode}')\n",
    "        continue"
   ]
  },
  {
   "cell_type": "code",
   "execution_count": 63,
   "metadata": {},
   "outputs": [],
   "source": [
    "from datetime import datetime\n",
    "import pandas as pd\n",
    "\n",
    "word_trends_fz = {}\n",
    "for word, data in word_trends.items():\n",
    "    word_trends_fz[word] = []\n",
    "    i = 0\n",
    "    for date in pd.date_range('20170102', '20210531', freq='W-MON').strftime('%Y-%m-%d'):\n",
    "        if len(data)==0:\n",
    "            word_trends_fz[word].append({'period': date, 'ratio': 0.0})\n",
    "        else:\n",
    "            if data[i]['period'] == date:\n",
    "                word_trends_fz[word].append({'period': date, 'ratio': data[i]['ratio']})\n",
    "                if i+1 < len(data):\n",
    "                    i += 1\n",
    "            else:\n",
    "                word_trends_fz[word].append({'period': date, 'ratio': 0.0})"
   ]
  },
  {
   "cell_type": "code",
   "execution_count": 66,
   "metadata": {},
   "outputs": [],
   "source": [
    "word_trends_df = pd.DataFrame({word: [prdict['ratio'] for prdict in prlist] for word, prlist in word_trends_fz.items()})\n",
    "word_trends_df.insert(0, 'period', pd.date_range('20170102', '20210531', freq='W-MON').strftime('%Y-%m-%d'))\n",
    "word_trends_df.to_csv('./data/word_trends.csv', index=False)"
   ]
  },
  {
   "cell_type": "code",
   "execution_count": 68,
   "metadata": {},
   "outputs": [
    {
     "output_type": "execute_result",
     "data": {
      "text/plain": [
       "         period        질병       합병증      패혈증       피부병        황달       매독  \\\n",
       "0    2017-01-02  34.47181  41.12814  0.50525  42.93985   9.26411  5.46836   \n",
       "1    2017-01-09  36.39417  37.18510  0.86922  42.97201   9.21393  5.98957   \n",
       "2    2017-01-16  31.46696  37.89704  0.60639  43.61531  22.23031  5.82590   \n",
       "3    2017-01-23  23.81485  31.98247  0.39328  42.87552   9.12975  4.99098   \n",
       "4    2017-01-30  30.64576  31.92771  0.43524  46.47796   9.25764  5.56968   \n",
       "..          ...       ...       ...      ...       ...       ...      ...   \n",
       "226  2021-05-03  53.45278  64.62212  0.50041  28.43357   8.79144  6.01782   \n",
       "227  2021-05-10  77.92086  66.86746  0.48556  30.74943   8.92255  6.28087   \n",
       "228  2021-05-17  67.95446  58.37897  0.49975  29.81666   9.53606  6.11330   \n",
       "229  2021-05-24  74.80403  62.32201  0.59264  29.72016   9.69794  6.33640   \n",
       "230  2021-05-31  75.27062  59.91237  0.59335  29.43068  10.66595  7.03784   \n",
       "\n",
       "         기관지염       폐렴        급성  ...         성욕        뇌막       뇌일혈  \\\n",
       "0    64.21550  5.74694  24.46393  ...  100.00000  23.92473  18.26252   \n",
       "1    58.60113  4.81950  20.66276  ...   96.28552  23.65591  14.33100   \n",
       "2    51.64461  4.45071  25.43859  ...   79.06976  23.38709  15.53582   \n",
       "3    37.98676  3.79676  20.27290  ...   73.02971  11.55913  11.73113   \n",
       "4    41.55009  4.04877  36.15984  ...   88.27519  26.61290  11.73113   \n",
       "..        ...      ...       ...  ...        ...       ...       ...   \n",
       "226  22.93950  2.76159  26.41325  ...   48.38501  57.25806  15.53582   \n",
       "227  26.28544  2.94768  32.84600  ...   54.45736  69.62365  17.31135   \n",
       "228  24.27221  2.78343  28.55750  ...   49.61240  66.39784  17.81864   \n",
       "229  24.95274  2.91114  33.43079  ...   50.35529  69.35483  17.94546   \n",
       "230  24.66918  3.02038  35.18518  ...   51.45348  66.12903  15.66265   \n",
       "\n",
       "     에리트로포이에틴       원추각막       열대병        요법  마비저        손상        통풍  \n",
       "0     5.33980  100.00000  15.32258  38.62068  0.0  38.85653  61.21533  \n",
       "1     5.33980   96.13677   4.03225  57.93103  0.0  40.81524   4.68184  \n",
       "2     5.33980   90.10702  15.32258  46.20689  0.0  38.16834   3.69813  \n",
       "3    10.67961   85.82615  19.35483  42.75862  0.0  28.69242   3.34324  \n",
       "4     9.22330   91.28164  17.74193  28.27586  0.0  34.88618   3.41878  \n",
       "..        ...        ...       ...       ...  ...       ...       ...  \n",
       "226  28.64077   19.05507  20.16129  48.27586  0.0  40.86818   3.84868  \n",
       "227  13.10679   18.74184  16.93548  73.10344  0.0  49.33827   3.97368  \n",
       "228  10.19417   16.83633  14.51612  81.37931  0.0  42.56220   4.43700  \n",
       "229  21.84466   21.63925  34.67741  84.13793  0.0  44.73266   4.34107  \n",
       "230  36.40776   16.94074  12.90322  82.75862  0.0  45.95023   4.30656  \n",
       "\n",
       "[231 rows x 1001 columns]"
      ],
      "text/html": "<div>\n<style scoped>\n    .dataframe tbody tr th:only-of-type {\n        vertical-align: middle;\n    }\n\n    .dataframe tbody tr th {\n        vertical-align: top;\n    }\n\n    .dataframe thead th {\n        text-align: right;\n    }\n</style>\n<table border=\"1\" class=\"dataframe\">\n  <thead>\n    <tr style=\"text-align: right;\">\n      <th></th>\n      <th>period</th>\n      <th>질병</th>\n      <th>합병증</th>\n      <th>패혈증</th>\n      <th>피부병</th>\n      <th>황달</th>\n      <th>매독</th>\n      <th>기관지염</th>\n      <th>폐렴</th>\n      <th>급성</th>\n      <th>...</th>\n      <th>성욕</th>\n      <th>뇌막</th>\n      <th>뇌일혈</th>\n      <th>에리트로포이에틴</th>\n      <th>원추각막</th>\n      <th>열대병</th>\n      <th>요법</th>\n      <th>마비저</th>\n      <th>손상</th>\n      <th>통풍</th>\n    </tr>\n  </thead>\n  <tbody>\n    <tr>\n      <th>0</th>\n      <td>2017-01-02</td>\n      <td>34.47181</td>\n      <td>41.12814</td>\n      <td>0.50525</td>\n      <td>42.93985</td>\n      <td>9.26411</td>\n      <td>5.46836</td>\n      <td>64.21550</td>\n      <td>5.74694</td>\n      <td>24.46393</td>\n      <td>...</td>\n      <td>100.00000</td>\n      <td>23.92473</td>\n      <td>18.26252</td>\n      <td>5.33980</td>\n      <td>100.00000</td>\n      <td>15.32258</td>\n      <td>38.62068</td>\n      <td>0.0</td>\n      <td>38.85653</td>\n      <td>61.21533</td>\n    </tr>\n    <tr>\n      <th>1</th>\n      <td>2017-01-09</td>\n      <td>36.39417</td>\n      <td>37.18510</td>\n      <td>0.86922</td>\n      <td>42.97201</td>\n      <td>9.21393</td>\n      <td>5.98957</td>\n      <td>58.60113</td>\n      <td>4.81950</td>\n      <td>20.66276</td>\n      <td>...</td>\n      <td>96.28552</td>\n      <td>23.65591</td>\n      <td>14.33100</td>\n      <td>5.33980</td>\n      <td>96.13677</td>\n      <td>4.03225</td>\n      <td>57.93103</td>\n      <td>0.0</td>\n      <td>40.81524</td>\n      <td>4.68184</td>\n    </tr>\n    <tr>\n      <th>2</th>\n      <td>2017-01-16</td>\n      <td>31.46696</td>\n      <td>37.89704</td>\n      <td>0.60639</td>\n      <td>43.61531</td>\n      <td>22.23031</td>\n      <td>5.82590</td>\n      <td>51.64461</td>\n      <td>4.45071</td>\n      <td>25.43859</td>\n      <td>...</td>\n      <td>79.06976</td>\n      <td>23.38709</td>\n      <td>15.53582</td>\n      <td>5.33980</td>\n      <td>90.10702</td>\n      <td>15.32258</td>\n      <td>46.20689</td>\n      <td>0.0</td>\n      <td>38.16834</td>\n      <td>3.69813</td>\n    </tr>\n    <tr>\n      <th>3</th>\n      <td>2017-01-23</td>\n      <td>23.81485</td>\n      <td>31.98247</td>\n      <td>0.39328</td>\n      <td>42.87552</td>\n      <td>9.12975</td>\n      <td>4.99098</td>\n      <td>37.98676</td>\n      <td>3.79676</td>\n      <td>20.27290</td>\n      <td>...</td>\n      <td>73.02971</td>\n      <td>11.55913</td>\n      <td>11.73113</td>\n      <td>10.67961</td>\n      <td>85.82615</td>\n      <td>19.35483</td>\n      <td>42.75862</td>\n      <td>0.0</td>\n      <td>28.69242</td>\n      <td>3.34324</td>\n    </tr>\n    <tr>\n      <th>4</th>\n      <td>2017-01-30</td>\n      <td>30.64576</td>\n      <td>31.92771</td>\n      <td>0.43524</td>\n      <td>46.47796</td>\n      <td>9.25764</td>\n      <td>5.56968</td>\n      <td>41.55009</td>\n      <td>4.04877</td>\n      <td>36.15984</td>\n      <td>...</td>\n      <td>88.27519</td>\n      <td>26.61290</td>\n      <td>11.73113</td>\n      <td>9.22330</td>\n      <td>91.28164</td>\n      <td>17.74193</td>\n      <td>28.27586</td>\n      <td>0.0</td>\n      <td>34.88618</td>\n      <td>3.41878</td>\n    </tr>\n    <tr>\n      <th>...</th>\n      <td>...</td>\n      <td>...</td>\n      <td>...</td>\n      <td>...</td>\n      <td>...</td>\n      <td>...</td>\n      <td>...</td>\n      <td>...</td>\n      <td>...</td>\n      <td>...</td>\n      <td>...</td>\n      <td>...</td>\n      <td>...</td>\n      <td>...</td>\n      <td>...</td>\n      <td>...</td>\n      <td>...</td>\n      <td>...</td>\n      <td>...</td>\n      <td>...</td>\n      <td>...</td>\n    </tr>\n    <tr>\n      <th>226</th>\n      <td>2021-05-03</td>\n      <td>53.45278</td>\n      <td>64.62212</td>\n      <td>0.50041</td>\n      <td>28.43357</td>\n      <td>8.79144</td>\n      <td>6.01782</td>\n      <td>22.93950</td>\n      <td>2.76159</td>\n      <td>26.41325</td>\n      <td>...</td>\n      <td>48.38501</td>\n      <td>57.25806</td>\n      <td>15.53582</td>\n      <td>28.64077</td>\n      <td>19.05507</td>\n      <td>20.16129</td>\n      <td>48.27586</td>\n      <td>0.0</td>\n      <td>40.86818</td>\n      <td>3.84868</td>\n    </tr>\n    <tr>\n      <th>227</th>\n      <td>2021-05-10</td>\n      <td>77.92086</td>\n      <td>66.86746</td>\n      <td>0.48556</td>\n      <td>30.74943</td>\n      <td>8.92255</td>\n      <td>6.28087</td>\n      <td>26.28544</td>\n      <td>2.94768</td>\n      <td>32.84600</td>\n      <td>...</td>\n      <td>54.45736</td>\n      <td>69.62365</td>\n      <td>17.31135</td>\n      <td>13.10679</td>\n      <td>18.74184</td>\n      <td>16.93548</td>\n      <td>73.10344</td>\n      <td>0.0</td>\n      <td>49.33827</td>\n      <td>3.97368</td>\n    </tr>\n    <tr>\n      <th>228</th>\n      <td>2021-05-17</td>\n      <td>67.95446</td>\n      <td>58.37897</td>\n      <td>0.49975</td>\n      <td>29.81666</td>\n      <td>9.53606</td>\n      <td>6.11330</td>\n      <td>24.27221</td>\n      <td>2.78343</td>\n      <td>28.55750</td>\n      <td>...</td>\n      <td>49.61240</td>\n      <td>66.39784</td>\n      <td>17.81864</td>\n      <td>10.19417</td>\n      <td>16.83633</td>\n      <td>14.51612</td>\n      <td>81.37931</td>\n      <td>0.0</td>\n      <td>42.56220</td>\n      <td>4.43700</td>\n    </tr>\n    <tr>\n      <th>229</th>\n      <td>2021-05-24</td>\n      <td>74.80403</td>\n      <td>62.32201</td>\n      <td>0.59264</td>\n      <td>29.72016</td>\n      <td>9.69794</td>\n      <td>6.33640</td>\n      <td>24.95274</td>\n      <td>2.91114</td>\n      <td>33.43079</td>\n      <td>...</td>\n      <td>50.35529</td>\n      <td>69.35483</td>\n      <td>17.94546</td>\n      <td>21.84466</td>\n      <td>21.63925</td>\n      <td>34.67741</td>\n      <td>84.13793</td>\n      <td>0.0</td>\n      <td>44.73266</td>\n      <td>4.34107</td>\n    </tr>\n    <tr>\n      <th>230</th>\n      <td>2021-05-31</td>\n      <td>75.27062</td>\n      <td>59.91237</td>\n      <td>0.59335</td>\n      <td>29.43068</td>\n      <td>10.66595</td>\n      <td>7.03784</td>\n      <td>24.66918</td>\n      <td>3.02038</td>\n      <td>35.18518</td>\n      <td>...</td>\n      <td>51.45348</td>\n      <td>66.12903</td>\n      <td>15.66265</td>\n      <td>36.40776</td>\n      <td>16.94074</td>\n      <td>12.90322</td>\n      <td>82.75862</td>\n      <td>0.0</td>\n      <td>45.95023</td>\n      <td>4.30656</td>\n    </tr>\n  </tbody>\n</table>\n<p>231 rows × 1001 columns</p>\n</div>"
     },
     "metadata": {},
     "execution_count": 68
    }
   ],
   "source": [
    "word_trends_df = pd.read_csv('./data/word_trends.csv')\n",
    "word_trends_df"
   ]
  },
  {
   "source": [
    "## Make wor2vec"
   ],
   "cell_type": "markdown",
   "metadata": {}
  },
  {
   "cell_type": "code",
   "execution_count": 4,
   "metadata": {},
   "outputs": [
    {
     "output_type": "stream",
     "name": "stdout",
     "text": [
      "Making sentences as list...\n",
      "Making word vectors...\n"
     ]
    }
   ],
   "source": [
    "from gensim.models import Word2Vec\n",
    "\n",
    "min_count = 5\n",
    "window_size = 5\n",
    "num_neg = 15\n",
    "vector_size = 300\n",
    "\n",
    "print('Making sentences as list...')\n",
    "sents = []\n",
    "corpus_fname = 'kowiki_corpus.txt'\n",
    "\n",
    "with open(f'./data/{corpus_fname}', 'r', encoding='utf8') as fin:\n",
    "    line = fin.readline()\n",
    "    while line:\n",
    "        words = line.split()\n",
    "        sents.append(words)\n",
    "        line = fin.readline()\n",
    "\n",
    "print('Making word vectors...')\n",
    "w2v_model = Word2Vec(sents, vector_size=vector_size, min_count=min_count, negative=num_neg, window=window_size)\n",
    "\n",
    "w2v_model.save('./models/kowiki-neg-300.bin')"
   ]
  },
  {
   "cell_type": "code",
   "execution_count": 13,
   "metadata": {},
   "outputs": [
    {
     "output_type": "execute_result",
     "data": {
      "text/plain": [
       "[('인플루엔자', 0.7366062998771667),\n",
       " ('홍역', 0.6661979556083679),\n",
       " ('콜레라', 0.652269721031189),\n",
       " ('출혈열', 0.648910641670227),\n",
       " ('유행병', 0.6479013562202454),\n",
       " ('전염병', 0.6393334269523621),\n",
       " ('뎅기열', 0.6355220079421997),\n",
       " ('대유행', 0.6307356357574463),\n",
       " ('말라리아', 0.6306702494621277),\n",
       " ('광견병', 0.6233310103416443)]"
      ]
     },
     "metadata": {},
     "execution_count": 13
    }
   ],
   "source": [
    "w2v_model.wv.most_similar('독감')"
   ]
  },
  {
   "cell_type": "code",
   "execution_count": 14,
   "metadata": {},
   "outputs": [],
   "source": [
    "w2v_kv = w2v_model.wv\n",
    "w2v_kv.save('./models/kowiki-neg-300.kv')"
   ]
  },
  {
   "source": [
    "## Build corpus"
   ],
   "cell_type": "markdown",
   "metadata": {}
  },
  {
   "cell_type": "code",
   "execution_count": 4,
   "metadata": {},
   "outputs": [],
   "source": [
    "from xml.etree import ElementTree as ET\n",
    "\n",
    "wiki_fname = 'kowiki-latest-pages-articles.xml'"
   ]
  },
  {
   "cell_type": "code",
   "execution_count": 5,
   "metadata": {},
   "outputs": [],
   "source": [
    "import re\n",
    "\n",
    "def clean_text(text):    \n",
    "    # Common\n",
    "    text = re.sub(\"(?s)<ref>.+?</ref>\", \"\", text) # remove reference links\n",
    "    text = re.sub(\"(?s)<[^>]+>\", \"\", text) # remove html tags\n",
    "    text = re.sub(\"&[a-z]+;\", \"\", text) # remove html entities\n",
    "    text = re.sub(\"(?s){{.+?}}\", \"\", text) # remove markup tags\n",
    "    text = re.sub(\"(?s){.+?}\", \"\", text) # remove markup tags\n",
    "    text = re.sub(\"(?s)\\[\\[([^]]+\\|)\", \"\", text) # remove link target strings\n",
    "    text = re.sub(\"(?s)\\[\\[([^]]+\\:.+?]])\", \"\", text) # remove media links\n",
    "    \n",
    "    text = re.sub(\"[']{5}\", \"\", text) # remove italic+bold symbols\n",
    "    text = re.sub(\"[']{3}\", \"\", text) # remove bold symbols\n",
    "    text = re.sub(\"[']{2}\", \"\", text) # remove italic symbols\n",
    "    \n",
    "    text = re.sub(u\"[^\\s\\r\\n가-힣.?!]\", \" \", text) # Replace unacceptable characters with a space.\n",
    "    text = re.sub('([.?!]){2,}', '\\\\1', text) # remove repeated punctuation\n",
    "    text = re.sub('\\s[.?!]\\s', '', text) # remove isolated punctuation\n",
    "    \n",
    "    # Common\n",
    "    text = re.sub(\"\\s{2,}\", \" \", text) # Squeeze spaces.\n",
    "    return text"
   ]
  },
  {
   "cell_type": "code",
   "execution_count": 10,
   "metadata": {},
   "outputs": [],
   "source": [
    "def sentence_segment(text):\n",
    "    '''\n",
    "    Args:\n",
    "      text: A string. A unsegmented paragraph.\n",
    "    \n",
    "    Returns:\n",
    "      A list of sentences.\n",
    "    '''\n",
    "    return re.split('([.?!])?[\\n]+|[.?!] ', text)"
   ]
  },
  {
   "cell_type": "code",
   "execution_count": 11,
   "metadata": {},
   "outputs": [],
   "source": [
    "from konlpy.tag import Mecab\n",
    "\n",
    "mecab = Mecab()\n",
    "def word_segment(text):\n",
    "    return [word for word, _ in mecab.pos(text)]"
   ]
  },
  {
   "cell_type": "code",
   "execution_count": 47,
   "metadata": {},
   "outputs": [],
   "source": [
    "with open(f'./data/{wiki_fname.split(\"-\")[0]}_corpus.txt', 'w', encoding='utf-8') as fout:\n",
    "    fout.close()"
   ]
  },
  {
   "cell_type": "code",
   "execution_count": 49,
   "metadata": {
    "tags": []
   },
   "outputs": [
    {
     "output_type": "stream",
     "name": "stderr",
     "text": [
      "25979812it [30:56, 13991.10it/s]\n"
     ]
    }
   ],
   "source": [
    "import itertools\n",
    "from tqdm import tqdm\n",
    "\n",
    "ns = '{http://www.mediawiki.org/xml/export-0.10/}'\n",
    "with open(f'./data/{wiki_fname.split(\"-\")[0]}_corpus.txt', 'w', encoding='utf-8') as fout:\n",
    "    for _, elem in tqdm(ET.iterparse(f'./data/{wiki_fname}')):\n",
    "        try:\n",
    "            tag = elem.tag.replace(ns, '')\n",
    "            if tag == 'text':\n",
    "                running_text = clean_text(elem.text)\n",
    "                sents = sentence_segment(running_text)\n",
    "                for sent in sents:\n",
    "                    if sent:\n",
    "                        words = word_segment(sent)\n",
    "                        if len(words) > 10:\n",
    "                            fout.write(' '.join(words) + '\\n')\n",
    "        except:\n",
    "            continue\n",
    "        elem.clear()"
   ]
  },
  {
   "cell_type": "code",
   "execution_count": null,
   "metadata": {},
   "outputs": [],
   "source": []
  }
 ]
}