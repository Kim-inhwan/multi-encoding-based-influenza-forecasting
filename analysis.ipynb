{
 "metadata": {
  "orig_nbformat": 4,
  "kernelspec": {
   "name": "python3",
   "display_name": "Python 3.8.5 64-bit"
  },
  "interpreter": {
   "hash": "31f2aee4e71d21fbe5cf8b01ff0e069b9275f58929596ceb00d14d90e3e16cd6"
  }
 },
 "nbformat": 4,
 "nbformat_minor": 2,
 "cells": [
  {
   "source": [
    "# Analysis"
   ],
   "cell_type": "markdown",
   "metadata": {}
  },
  {
   "source": [
    "## Extract \"flu-related\" words"
   ],
   "cell_type": "markdown",
   "metadata": {}
  },
  {
   "cell_type": "code",
   "execution_count": 2,
   "metadata": {},
   "outputs": [],
   "source": [
    "from gensim.models import KeyedVectors\n",
    "\n",
    "kv_fname = 'kowiki-neg-300.kv'\n",
    "w2v_kv = KeyedVectors.load(f'./models/{kv_fname}')"
   ]
  },
  {
   "cell_type": "code",
   "execution_count": 4,
   "metadata": {},
   "outputs": [
    {
     "output_type": "execute_result",
     "data": {
      "text/plain": [
       "[('질병', 0.6456781029701233),\n",
       " ('합병증', 0.6416015028953552),\n",
       " ('패혈증', 0.6396576166152954),\n",
       " ('피부병', 0.6389033198356628),\n",
       " ('황달', 0.637260377407074),\n",
       " ('매독', 0.6342878341674805),\n",
       " ('기관지염', 0.6325851678848267),\n",
       " ('폐렴', 0.6323192715644836),\n",
       " ('급성', 0.6281660795211792),\n",
       " ('복통', 0.6278930902481079),\n",
       " ('홍역', 0.6278191804885864),\n",
       " ('대상포진', 0.6273614764213562),\n",
       " ('뎅기열', 0.6261769533157349),\n",
       " ('천식', 0.6254749298095703),\n",
       " ('뇌염', 0.6234469413757324),\n",
       " ('무증상', 0.6224794387817383),\n",
       " ('관절통', 0.6186830997467041),\n",
       " ('골다공증', 0.6164602041244507),\n",
       " ('파킨슨병', 0.615439772605896),\n",
       " ('폐질환', 0.6129343509674072),\n",
       " ('신장염', 0.6128467917442322),\n",
       " ('말라리아', 0.612651526927948),\n",
       " ('발병', 0.6126167178153992),\n",
       " ('심근염', 0.6122466325759888),\n",
       " ('결핵', 0.6121384501457214),\n",
       " ('부작용', 0.6108651161193848),\n",
       " ('뇌전증', 0.6089601516723633),\n",
       " ('알츠하이머병', 0.6067097783088684),\n",
       " ('파상풍', 0.6065411567687988),\n",
       " ('가려움증', 0.6062012314796448)]"
      ]
     },
     "metadata": {},
     "execution_count": 4
    }
   ],
   "source": [
    "w2v_kv.most_similar_cosmul(positive=['독감', '증상'], topn=30)"
   ]
  },
  {
   "cell_type": "code",
   "execution_count": 11,
   "metadata": {},
   "outputs": [
    {
     "output_type": "stream",
     "name": "stderr",
     "text": [
      "100%|██████████| 999/999 [01:32<00:00, 10.76it/s]\n"
     ]
    }
   ],
   "source": [
    "import urllib\n",
    "import json\n",
    "from tqdm import tqdm\n",
    "\n",
    "client_id = 'B4Vmp4Wt5ECl_fNWgIXR'\n",
    "client_secret = 'WnmtyQRoNa'\n",
    "naver_trends_url = 'https://openapi.naver.com/v1/datalab/search'\n",
    "\n",
    "flu_related_words = [w for w, _ in w2v_kv.most_similar_cosmul(positive=['독감', '증상'], topn=1000)]\n",
    "word_trends = {}\n",
    "\n",
    "for word in tqdm(flu_related_words):\n",
    "    try:\n",
    "        body = ('{\"startDate\\\":\"2017-01-02\",\"endDate\":\"2021-06-06\",\"timeUnit\":\"week\",' \n",
    "                + '\"keywordGroups\":[{\"groupName\":\"' + word + '\",\"keywords\":[\\\"' + word + '\\\"]}]}')\n",
    "        request = urllib.request.Request(naver_trends_url)\n",
    "        request.add_header(\"X-Naver-Client-Id\", client_id)\n",
    "        request.add_header(\"X-Naver-Client-Secret\", client_secret)\n",
    "        request.add_header(\"Content-Type\",\"application/json\")\n",
    "        response = urllib.request.urlopen(request, data=body.encode(\"utf-8\"))\n",
    "        rescode = response.getcode()\n",
    "        if rescode==200:\n",
    "            resbody = response.read()\n",
    "            resbody = json.loads(resbody.decode('utf8'))\n",
    "            word_trends[word] = resbody['results'][0]['data']\n",
    "        else:\n",
    "            print(f'request is failed for {word}, error code: {rescode}')\n",
    "    except:\n",
    "        print(f'request is failed for {word}, error code: {rescode}')\n",
    "        continue"
   ]
  },
  {
   "cell_type": "code",
   "execution_count": 63,
   "metadata": {},
   "outputs": [],
   "source": [
    "from datetime import datetime\n",
    "import pandas as pd\n",
    "\n",
    "word_trends_fz = {}\n",
    "for word, data in word_trends.items():\n",
    "    word_trends_fz[word] = []\n",
    "    i = 0\n",
    "    for date in pd.date_range('20170102', '20210531', freq='W-MON').strftime('%Y-%m-%d'):\n",
    "        if len(data)==0:\n",
    "            word_trends_fz[word].append({'period': date, 'ratio': 0.0})\n",
    "        else:\n",
    "            if data[i]['period'] == date:\n",
    "                word_trends_fz[word].append({'period': date, 'ratio': data[i]['ratio']})\n",
    "                if i+1 < len(data):\n",
    "                    i += 1\n",
    "            else:\n",
    "                word_trends_fz[word].append({'period': date, 'ratio': 0.0})"
   ]
  },
  {
   "cell_type": "code",
   "execution_count": 66,
   "metadata": {},
   "outputs": [],
   "source": [
    "word_trends_df = pd.DataFrame({word: [prdict['ratio'] for prdict in prlist] for word, prlist in word_trends_fz.items()})\n",
    "word_trends_df.insert(0, 'period', pd.date_range('20170102', '20210531', freq='W-MON').strftime('%Y-%m-%d'))\n",
    "word_trends_df.to_csv('./data/word_trends.csv', index=False)"
   ]
  },
  {
   "cell_type": "code",
   "execution_count": 68,
   "metadata": {},
   "outputs": [
    {
     "output_type": "execute_result",
     "data": {
      "text/plain": [
       "         period        질병       합병증      패혈증       피부병        황달       매독  \\\n",
       "0    2017-01-02  34.47181  41.12814  0.50525  42.93985   9.26411  5.46836   \n",
       "1    2017-01-09  36.39417  37.18510  0.86922  42.97201   9.21393  5.98957   \n",
       "2    2017-01-16  31.46696  37.89704  0.60639  43.61531  22.23031  5.82590   \n",
       "3    2017-01-23  23.81485  31.98247  0.39328  42.87552   9.12975  4.99098   \n",
       "4    2017-01-30  30.64576  31.92771  0.43524  46.47796   9.25764  5.56968   \n",
       "..          ...       ...       ...      ...       ...       ...      ...   \n",
       "226  2021-05-03  53.45278  64.62212  0.50041  28.43357   8.79144  6.01782   \n",
       "227  2021-05-10  77.92086  66.86746  0.48556  30.74943   8.92255  6.28087   \n",
       "228  2021-05-17  67.95446  58.37897  0.49975  29.81666   9.53606  6.11330   \n",
       "229  2021-05-24  74.80403  62.32201  0.59264  29.72016   9.69794  6.33640   \n",
       "230  2021-05-31  75.27062  59.91237  0.59335  29.43068  10.66595  7.03784   \n",
       "\n",
       "         기관지염       폐렴        급성  ...         성욕        뇌막       뇌일혈  \\\n",
       "0    64.21550  5.74694  24.46393  ...  100.00000  23.92473  18.26252   \n",
       "1    58.60113  4.81950  20.66276  ...   96.28552  23.65591  14.33100   \n",
       "2    51.64461  4.45071  25.43859  ...   79.06976  23.38709  15.53582   \n",
       "3    37.98676  3.79676  20.27290  ...   73.02971  11.55913  11.73113   \n",
       "4    41.55009  4.04877  36.15984  ...   88.27519  26.61290  11.73113   \n",
       "..        ...      ...       ...  ...        ...       ...       ...   \n",
       "226  22.93950  2.76159  26.41325  ...   48.38501  57.25806  15.53582   \n",
       "227  26.28544  2.94768  32.84600  ...   54.45736  69.62365  17.31135   \n",
       "228  24.27221  2.78343  28.55750  ...   49.61240  66.39784  17.81864   \n",
       "229  24.95274  2.91114  33.43079  ...   50.35529  69.35483  17.94546   \n",
       "230  24.66918  3.02038  35.18518  ...   51.45348  66.12903  15.66265   \n",
       "\n",
       "     에리트로포이에틴       원추각막       열대병        요법  마비저        손상        통풍  \n",
       "0     5.33980  100.00000  15.32258  38.62068  0.0  38.85653  61.21533  \n",
       "1     5.33980   96.13677   4.03225  57.93103  0.0  40.81524   4.68184  \n",
       "2     5.33980   90.10702  15.32258  46.20689  0.0  38.16834   3.69813  \n",
       "3    10.67961   85.82615  19.35483  42.75862  0.0  28.69242   3.34324  \n",
       "4     9.22330   91.28164  17.74193  28.27586  0.0  34.88618   3.41878  \n",
       "..        ...        ...       ...       ...  ...       ...       ...  \n",
       "226  28.64077   19.05507  20.16129  48.27586  0.0  40.86818   3.84868  \n",
       "227  13.10679   18.74184  16.93548  73.10344  0.0  49.33827   3.97368  \n",
       "228  10.19417   16.83633  14.51612  81.37931  0.0  42.56220   4.43700  \n",
       "229  21.84466   21.63925  34.67741  84.13793  0.0  44.73266   4.34107  \n",
       "230  36.40776   16.94074  12.90322  82.75862  0.0  45.95023   4.30656  \n",
       "\n",
       "[231 rows x 1001 columns]"
      ],
      "text/html": "<div>\n<style scoped>\n    .dataframe tbody tr th:only-of-type {\n        vertical-align: middle;\n    }\n\n    .dataframe tbody tr th {\n        vertical-align: top;\n    }\n\n    .dataframe thead th {\n        text-align: right;\n    }\n</style>\n<table border=\"1\" class=\"dataframe\">\n  <thead>\n    <tr style=\"text-align: right;\">\n      <th></th>\n      <th>period</th>\n      <th>질병</th>\n      <th>합병증</th>\n      <th>패혈증</th>\n      <th>피부병</th>\n      <th>황달</th>\n      <th>매독</th>\n      <th>기관지염</th>\n      <th>폐렴</th>\n      <th>급성</th>\n      <th>...</th>\n      <th>성욕</th>\n      <th>뇌막</th>\n      <th>뇌일혈</th>\n      <th>에리트로포이에틴</th>\n      <th>원추각막</th>\n      <th>열대병</th>\n      <th>요법</th>\n      <th>마비저</th>\n      <th>손상</th>\n      <th>통풍</th>\n    </tr>\n  </thead>\n  <tbody>\n    <tr>\n      <th>0</th>\n      <td>2017-01-02</td>\n      <td>34.47181</td>\n      <td>41.12814</td>\n      <td>0.50525</td>\n      <td>42.93985</td>\n      <td>9.26411</td>\n      <td>5.46836</td>\n      <td>64.21550</td>\n      <td>5.74694</td>\n      <td>24.46393</td>\n      <td>...</td>\n      <td>100.00000</td>\n      <td>23.92473</td>\n      <td>18.26252</td>\n      <td>5.33980</td>\n      <td>100.00000</td>\n      <td>15.32258</td>\n      <td>38.62068</td>\n      <td>0.0</td>\n      <td>38.85653</td>\n      <td>61.21533</td>\n    </tr>\n    <tr>\n      <th>1</th>\n      <td>2017-01-09</td>\n      <td>36.39417</td>\n      <td>37.18510</td>\n      <td>0.86922</td>\n      <td>42.97201</td>\n      <td>9.21393</td>\n      <td>5.98957</td>\n      <td>58.60113</td>\n      <td>4.81950</td>\n      <td>20.66276</td>\n      <td>...</td>\n      <td>96.28552</td>\n      <td>23.65591</td>\n      <td>14.33100</td>\n      <td>5.33980</td>\n      <td>96.13677</td>\n      <td>4.03225</td>\n      <td>57.93103</td>\n      <td>0.0</td>\n      <td>40.81524</td>\n      <td>4.68184</td>\n    </tr>\n    <tr>\n      <th>2</th>\n      <td>2017-01-16</td>\n      <td>31.46696</td>\n      <td>37.89704</td>\n      <td>0.60639</td>\n      <td>43.61531</td>\n      <td>22.23031</td>\n      <td>5.82590</td>\n      <td>51.64461</td>\n      <td>4.45071</td>\n      <td>25.43859</td>\n      <td>...</td>\n      <td>79.06976</td>\n      <td>23.38709</td>\n      <td>15.53582</td>\n      <td>5.33980</td>\n      <td>90.10702</td>\n      <td>15.32258</td>\n      <td>46.20689</td>\n      <td>0.0</td>\n      <td>38.16834</td>\n      <td>3.69813</td>\n    </tr>\n    <tr>\n      <th>3</th>\n      <td>2017-01-23</td>\n      <td>23.81485</td>\n      <td>31.98247</td>\n      <td>0.39328</td>\n      <td>42.87552</td>\n      <td>9.12975</td>\n      <td>4.99098</td>\n      <td>37.98676</td>\n      <td>3.79676</td>\n      <td>20.27290</td>\n      <td>...</td>\n      <td>73.02971</td>\n      <td>11.55913</td>\n      <td>11.73113</td>\n      <td>10.67961</td>\n      <td>85.82615</td>\n      <td>19.35483</td>\n      <td>42.75862</td>\n      <td>0.0</td>\n      <td>28.69242</td>\n      <td>3.34324</td>\n    </tr>\n    <tr>\n      <th>4</th>\n      <td>2017-01-30</td>\n      <td>30.64576</td>\n      <td>31.92771</td>\n      <td>0.43524</td>\n      <td>46.47796</td>\n      <td>9.25764</td>\n      <td>5.56968</td>\n      <td>41.55009</td>\n      <td>4.04877</td>\n      <td>36.15984</td>\n      <td>...</td>\n      <td>88.27519</td>\n      <td>26.61290</td>\n      <td>11.73113</td>\n      <td>9.22330</td>\n      <td>91.28164</td>\n      <td>17.74193</td>\n      <td>28.27586</td>\n      <td>0.0</td>\n      <td>34.88618</td>\n      <td>3.41878</td>\n    </tr>\n    <tr>\n      <th>...</th>\n      <td>...</td>\n      <td>...</td>\n      <td>...</td>\n      <td>...</td>\n      <td>...</td>\n      <td>...</td>\n      <td>...</td>\n      <td>...</td>\n      <td>...</td>\n      <td>...</td>\n      <td>...</td>\n      <td>...</td>\n      <td>...</td>\n      <td>...</td>\n      <td>...</td>\n      <td>...</td>\n      <td>...</td>\n      <td>...</td>\n      <td>...</td>\n      <td>...</td>\n      <td>...</td>\n    </tr>\n    <tr>\n      <th>226</th>\n      <td>2021-05-03</td>\n      <td>53.45278</td>\n      <td>64.62212</td>\n      <td>0.50041</td>\n      <td>28.43357</td>\n      <td>8.79144</td>\n      <td>6.01782</td>\n      <td>22.93950</td>\n      <td>2.76159</td>\n      <td>26.41325</td>\n      <td>...</td>\n      <td>48.38501</td>\n      <td>57.25806</td>\n      <td>15.53582</td>\n      <td>28.64077</td>\n      <td>19.05507</td>\n      <td>20.16129</td>\n      <td>48.27586</td>\n      <td>0.0</td>\n      <td>40.86818</td>\n      <td>3.84868</td>\n    </tr>\n    <tr>\n      <th>227</th>\n      <td>2021-05-10</td>\n      <td>77.92086</td>\n      <td>66.86746</td>\n      <td>0.48556</td>\n      <td>30.74943</td>\n      <td>8.92255</td>\n      <td>6.28087</td>\n      <td>26.28544</td>\n      <td>2.94768</td>\n      <td>32.84600</td>\n      <td>...</td>\n      <td>54.45736</td>\n      <td>69.62365</td>\n      <td>17.31135</td>\n      <td>13.10679</td>\n      <td>18.74184</td>\n      <td>16.93548</td>\n      <td>73.10344</td>\n      <td>0.0</td>\n      <td>49.33827</td>\n      <td>3.97368</td>\n    </tr>\n    <tr>\n      <th>228</th>\n      <td>2021-05-17</td>\n      <td>67.95446</td>\n      <td>58.37897</td>\n      <td>0.49975</td>\n      <td>29.81666</td>\n      <td>9.53606</td>\n      <td>6.11330</td>\n      <td>24.27221</td>\n      <td>2.78343</td>\n      <td>28.55750</td>\n      <td>...</td>\n      <td>49.61240</td>\n      <td>66.39784</td>\n      <td>17.81864</td>\n      <td>10.19417</td>\n      <td>16.83633</td>\n      <td>14.51612</td>\n      <td>81.37931</td>\n      <td>0.0</td>\n      <td>42.56220</td>\n      <td>4.43700</td>\n    </tr>\n    <tr>\n      <th>229</th>\n      <td>2021-05-24</td>\n      <td>74.80403</td>\n      <td>62.32201</td>\n      <td>0.59264</td>\n      <td>29.72016</td>\n      <td>9.69794</td>\n      <td>6.33640</td>\n      <td>24.95274</td>\n      <td>2.91114</td>\n      <td>33.43079</td>\n      <td>...</td>\n      <td>50.35529</td>\n      <td>69.35483</td>\n      <td>17.94546</td>\n      <td>21.84466</td>\n      <td>21.63925</td>\n      <td>34.67741</td>\n      <td>84.13793</td>\n      <td>0.0</td>\n      <td>44.73266</td>\n      <td>4.34107</td>\n    </tr>\n    <tr>\n      <th>230</th>\n      <td>2021-05-31</td>\n      <td>75.27062</td>\n      <td>59.91237</td>\n      <td>0.59335</td>\n      <td>29.43068</td>\n      <td>10.66595</td>\n      <td>7.03784</td>\n      <td>24.66918</td>\n      <td>3.02038</td>\n      <td>35.18518</td>\n      <td>...</td>\n      <td>51.45348</td>\n      <td>66.12903</td>\n      <td>15.66265</td>\n      <td>36.40776</td>\n      <td>16.94074</td>\n      <td>12.90322</td>\n      <td>82.75862</td>\n      <td>0.0</td>\n      <td>45.95023</td>\n      <td>4.30656</td>\n    </tr>\n  </tbody>\n</table>\n<p>231 rows × 1001 columns</p>\n</div>"
     },
     "metadata": {},
     "execution_count": 68
    }
   ],
   "source": [
    "word_trends_df = pd.read_csv('./data/word_trends.csv')\n",
    "word_trends_df"
   ]
  },
  {
   "source": [
    "## Make wor2vec"
   ],
   "cell_type": "markdown",
   "metadata": {}
  },
  {
   "cell_type": "code",
   "execution_count": 4,
   "metadata": {},
   "outputs": [
    {
     "output_type": "stream",
     "name": "stdout",
     "text": [
      "Making sentences as list...\n",
      "Making word vectors...\n"
     ]
    }
   ],
   "source": [
    "from gensim.models import Word2Vec\n",
    "\n",
    "min_count = 5\n",
    "window_size = 5\n",
    "num_neg = 15\n",
    "vector_size = 300\n",
    "\n",
    "print('Making sentences as list...')\n",
    "sents = []\n",
    "corpus_fname = 'kowiki_corpus.txt'\n",
    "\n",
    "with open(f'./data/{corpus_fname}', 'r', encoding='utf8') as fin:\n",
    "    line = fin.readline()\n",
    "    while line:\n",
    "        words = line.split()\n",
    "        sents.append(words)\n",
    "        line = fin.readline()\n",
    "\n",
    "print('Making word vectors...')\n",
    "w2v_model = Word2Vec(sents, vector_size=vector_size, min_count=min_count, negative=num_neg, window=window_size)\n",
    "\n",
    "w2v_model.save('./models/kowiki-neg-300.bin')"
   ]
  },
  {
   "cell_type": "code",
   "execution_count": 13,
   "metadata": {},
   "outputs": [
    {
     "output_type": "execute_result",
     "data": {
      "text/plain": [
       "[('인플루엔자', 0.7366062998771667),\n",
       " ('홍역', 0.6661979556083679),\n",
       " ('콜레라', 0.652269721031189),\n",
       " ('출혈열', 0.648910641670227),\n",
       " ('유행병', 0.6479013562202454),\n",
       " ('전염병', 0.6393334269523621),\n",
       " ('뎅기열', 0.6355220079421997),\n",
       " ('대유행', 0.6307356357574463),\n",
       " ('말라리아', 0.6306702494621277),\n",
       " ('광견병', 0.6233310103416443)]"
      ]
     },
     "metadata": {},
     "execution_count": 13
    }
   ],
   "source": [
    "w2v_model.wv.most_similar('독감')"
   ]
  },
  {
   "cell_type": "code",
   "execution_count": 14,
   "metadata": {},
   "outputs": [],
   "source": [
    "w2v_kv = w2v_model.wv\n",
    "w2v_kv.save('./models/kowiki-neg-300.kv')"
   ]
  },
  {
   "source": [
    "## Build corpus"
   ],
   "cell_type": "markdown",
   "metadata": {}
  },
  {
   "cell_type": "code",
   "execution_count": 4,
   "metadata": {},
   "outputs": [],
   "source": [
    "from xml.etree import ElementTree as ET\n",
    "\n",
    "wiki_fname = 'kowiki-latest-pages-articles.xml'"
   ]
  },
  {
   "cell_type": "code",
   "execution_count": 5,
   "metadata": {},
   "outputs": [],
   "source": [
    "import re\n",
    "\n",
    "def clean_text(text):    \n",
    "    # Common\n",
    "    text = re.sub(\"(?s)<ref>.+?</ref>\", \"\", text) # remove reference links\n",
    "    text = re.sub(\"(?s)<[^>]+>\", \"\", text) # remove html tags\n",
    "    text = re.sub(\"&[a-z]+;\", \"\", text) # remove html entities\n",
    "    text = re.sub(\"(?s){{.+?}}\", \"\", text) # remove markup tags\n",
    "    text = re.sub(\"(?s){.+?}\", \"\", text) # remove markup tags\n",
    "    text = re.sub(\"(?s)\\[\\[([^]]+\\|)\", \"\", text) # remove link target strings\n",
    "    text = re.sub(\"(?s)\\[\\[([^]]+\\:.+?]])\", \"\", text) # remove media links\n",
    "    \n",
    "    text = re.sub(\"[']{5}\", \"\", text) # remove italic+bold symbols\n",
    "    text = re.sub(\"[']{3}\", \"\", text) # remove bold symbols\n",
    "    text = re.sub(\"[']{2}\", \"\", text) # remove italic symbols\n",
    "    \n",
    "    text = re.sub(u\"[^\\s\\r\\n가-힣.?!]\", \" \", text) # Replace unacceptable characters with a space.\n",
    "    text = re.sub('([.?!]){2,}', '\\\\1', text) # remove repeated punctuation\n",
    "    text = re.sub('\\s[.?!]\\s', '', text) # remove isolated punctuation\n",
    "    \n",
    "    # Common\n",
    "    text = re.sub(\"\\s{2,}\", \" \", text) # Squeeze spaces.\n",
    "    return text"
   ]
  },
  {
   "cell_type": "code",
   "execution_count": 10,
   "metadata": {},
   "outputs": [],
   "source": [
    "def sentence_segment(text):\n",
    "    '''\n",
    "    Args:\n",
    "      text: A string. A unsegmented paragraph.\n",
    "    \n",
    "    Returns:\n",
    "      A list of sentences.\n",
    "    '''\n",
    "    return re.split('([.?!])?[\\n]+|[.?!] ', text)"
   ]
  },
  {
   "cell_type": "code",
   "execution_count": 11,
   "metadata": {},
   "outputs": [],
   "source": [
    "from konlpy.tag import Mecab\n",
    "\n",
    "mecab = Mecab()\n",
    "def word_segment(text):\n",
    "    return [word for word, _ in mecab.pos(text)]"
   ]
  },
  {
   "cell_type": "code",
   "execution_count": 47,
   "metadata": {},
   "outputs": [],
   "source": [
    "with open(f'./data/{wiki_fname.split(\"-\")[0]}_corpus.txt', 'w', encoding='utf-8') as fout:\n",
    "    fout.close()"
   ]
  },
  {
   "cell_type": "code",
   "execution_count": 49,
   "metadata": {
    "tags": []
   },
   "outputs": [
    {
     "output_type": "stream",
     "name": "stderr",
     "text": [
      "25979812it [30:56, 13991.10it/s]\n"
     ]
    }
   ],
   "source": [
    "import itertools\n",
    "from tqdm import tqdm\n",
    "\n",
    "ns = '{http://www.mediawiki.org/xml/export-0.10/}'\n",
    "with open(f'./data/{wiki_fname.split(\"-\")[0]}_corpus.txt', 'w', encoding='utf-8') as fout:\n",
    "    for _, elem in tqdm(ET.iterparse(f'./data/{wiki_fname}')):\n",
    "        try:\n",
    "            tag = elem.tag.replace(ns, '')\n",
    "            if tag == 'text':\n",
    "                running_text = clean_text(elem.text)\n",
    "                sents = sentence_segment(running_text)\n",
    "                for sent in sents:\n",
    "                    if sent:\n",
    "                        words = word_segment(sent)\n",
    "                        if len(words) > 10:\n",
    "                            fout.write(' '.join(words) + '\\n')\n",
    "        except:\n",
    "            continue\n",
    "        elem.clear()"
   ]
  },
  {
   "cell_type": "code",
   "execution_count": null,
   "metadata": {},
   "outputs": [],
   "source": []
  }
 ]
}